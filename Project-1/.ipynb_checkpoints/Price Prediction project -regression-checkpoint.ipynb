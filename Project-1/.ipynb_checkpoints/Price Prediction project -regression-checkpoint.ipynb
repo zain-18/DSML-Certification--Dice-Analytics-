{
 "cells": [
  {
   "cell_type": "markdown",
   "metadata": {},
   "source": [
    "# Price Prediction using Regression"
   ]
  },
  {
   "cell_type": "markdown",
   "metadata": {},
   "source": [
    "This is a tickets pricing monitoring system. It scrapes tickets pricing data periodically and stores it in a database. Ticket pricing changes based on demand and time, and there can be significant difference in price. We are creating this product mainly with ourselves in mind. Users can set up alarms using an email, choosing an origin and destination (cities), time (date and hour range picker) choosing a price reduction over mean price, etc."
   ]
  },
  {
   "cell_type": "markdown",
   "metadata": {},
   "source": [
    "**Following is the description for columns in the dataset**<br>\n",
    "- insert_date: date and time when the price was collected and written in the database<br>\n",
    "- origin: origin city <br>\n",
    "- destination: destination city <br>\n",
    "- start_date: train departure time<br>\n",
    "- end_date: train arrival time<br>\n",
    "- train_type: train service name<br>\n",
    "- price: price<br>\n",
    "- train_class: ticket class, tourist, business, etc.<br>\n",
    "- fare: ticket fare, round trip, etc <br>"
   ]
  },
  {
   "cell_type": "code",
   "execution_count": 1,
   "metadata": {},
   "outputs": [],
   "source": [
    "import pandas as pd\n",
    "import numpy as np\n",
    "import seaborn as sns\n",
    "import matplotlib.pyplot as plt\n",
    "\n",
    "%matplotlib inline\n",
    "sns.set()"
   ]
  },
  {
   "cell_type": "markdown",
   "metadata": {},
   "source": [
    "#### **Task 1: Import Dataset and create a copy of that dataset**"
   ]
  },
  {
   "cell_type": "code",
   "execution_count": 2,
   "metadata": {},
   "outputs": [],
   "source": [
    "#write code here\n",
    "data = pd.read_csv('data1.csv')\n",
    "df = data.copy()"
   ]
  },
  {
   "cell_type": "markdown",
   "metadata": {},
   "source": [
    "#### **Task 2: Display first five rows** "
   ]
  },
  {
   "cell_type": "code",
   "execution_count": 3,
   "metadata": {},
   "outputs": [
    {
     "data": {
      "text/html": [
       "<div>\n",
       "<style scoped>\n",
       "    .dataframe tbody tr th:only-of-type {\n",
       "        vertical-align: middle;\n",
       "    }\n",
       "\n",
       "    .dataframe tbody tr th {\n",
       "        vertical-align: top;\n",
       "    }\n",
       "\n",
       "    .dataframe thead th {\n",
       "        text-align: right;\n",
       "    }\n",
       "</style>\n",
       "<table border=\"1\" class=\"dataframe\">\n",
       "  <thead>\n",
       "    <tr style=\"text-align: right;\">\n",
       "      <th></th>\n",
       "      <th>Unnamed: 0</th>\n",
       "      <th>insert_date</th>\n",
       "      <th>origin</th>\n",
       "      <th>destination</th>\n",
       "      <th>start_date</th>\n",
       "      <th>end_date</th>\n",
       "      <th>train_type</th>\n",
       "      <th>price</th>\n",
       "      <th>train_class</th>\n",
       "      <th>fare</th>\n",
       "    </tr>\n",
       "  </thead>\n",
       "  <tbody>\n",
       "    <tr>\n",
       "      <th>0</th>\n",
       "      <td>702</td>\n",
       "      <td>2019-04-19 05:37:35</td>\n",
       "      <td>PONFERRADA</td>\n",
       "      <td>MADRID</td>\n",
       "      <td>2019-06-02 15:00:00</td>\n",
       "      <td>2019-06-02 19:42:00</td>\n",
       "      <td>MD-AVE</td>\n",
       "      <td>59.50</td>\n",
       "      <td>Turista con enlace</td>\n",
       "      <td>Flexible</td>\n",
       "    </tr>\n",
       "    <tr>\n",
       "      <th>1</th>\n",
       "      <td>703</td>\n",
       "      <td>2019-04-19 05:37:35</td>\n",
       "      <td>PONFERRADA</td>\n",
       "      <td>MADRID</td>\n",
       "      <td>2019-06-02 17:15:00</td>\n",
       "      <td>2019-06-02 23:03:00</td>\n",
       "      <td>MD-AVE</td>\n",
       "      <td>34.65</td>\n",
       "      <td>Turista con enlace</td>\n",
       "      <td>Promo +</td>\n",
       "    </tr>\n",
       "    <tr>\n",
       "      <th>2</th>\n",
       "      <td>704</td>\n",
       "      <td>2019-04-19 05:37:35</td>\n",
       "      <td>PONFERRADA</td>\n",
       "      <td>MADRID</td>\n",
       "      <td>2019-06-02 17:15:00</td>\n",
       "      <td>2019-06-02 23:10:00</td>\n",
       "      <td>MD-LD</td>\n",
       "      <td>39.95</td>\n",
       "      <td>Turista con enlace</td>\n",
       "      <td>Promo +</td>\n",
       "    </tr>\n",
       "    <tr>\n",
       "      <th>3</th>\n",
       "      <td>705</td>\n",
       "      <td>2019-04-19 05:37:35</td>\n",
       "      <td>PONFERRADA</td>\n",
       "      <td>MADRID</td>\n",
       "      <td>2019-06-02 17:15:00</td>\n",
       "      <td>2019-06-02 22:14:00</td>\n",
       "      <td>MD-AVE</td>\n",
       "      <td>40.60</td>\n",
       "      <td>Turista con enlace</td>\n",
       "      <td>Promo +</td>\n",
       "    </tr>\n",
       "    <tr>\n",
       "      <th>4</th>\n",
       "      <td>706</td>\n",
       "      <td>2019-04-19 05:37:35</td>\n",
       "      <td>PONFERRADA</td>\n",
       "      <td>MADRID</td>\n",
       "      <td>2019-06-02 18:55:00</td>\n",
       "      <td>2019-06-02 23:03:00</td>\n",
       "      <td>ALVIA</td>\n",
       "      <td>27.90</td>\n",
       "      <td>Turista</td>\n",
       "      <td>Promo</td>\n",
       "    </tr>\n",
       "  </tbody>\n",
       "</table>\n",
       "</div>"
      ],
      "text/plain": [
       "   Unnamed: 0          insert_date      origin destination  \\\n",
       "0         702  2019-04-19 05:37:35  PONFERRADA      MADRID   \n",
       "1         703  2019-04-19 05:37:35  PONFERRADA      MADRID   \n",
       "2         704  2019-04-19 05:37:35  PONFERRADA      MADRID   \n",
       "3         705  2019-04-19 05:37:35  PONFERRADA      MADRID   \n",
       "4         706  2019-04-19 05:37:35  PONFERRADA      MADRID   \n",
       "\n",
       "            start_date             end_date train_type  price  \\\n",
       "0  2019-06-02 15:00:00  2019-06-02 19:42:00     MD-AVE  59.50   \n",
       "1  2019-06-02 17:15:00  2019-06-02 23:03:00     MD-AVE  34.65   \n",
       "2  2019-06-02 17:15:00  2019-06-02 23:10:00      MD-LD  39.95   \n",
       "3  2019-06-02 17:15:00  2019-06-02 22:14:00     MD-AVE  40.60   \n",
       "4  2019-06-02 18:55:00  2019-06-02 23:03:00      ALVIA  27.90   \n",
       "\n",
       "          train_class      fare  \n",
       "0  Turista con enlace  Flexible  \n",
       "1  Turista con enlace   Promo +  \n",
       "2  Turista con enlace   Promo +  \n",
       "3  Turista con enlace   Promo +  \n",
       "4             Turista     Promo  "
      ]
     },
     "execution_count": 3,
     "metadata": {},
     "output_type": "execute_result"
    }
   ],
   "source": [
    "#write code here\n",
    "df.head(5)"
   ]
  },
  {
   "cell_type": "markdown",
   "metadata": {},
   "source": [
    "#### **Task 3: Drop 'unnamed: 0' column**"
   ]
  },
  {
   "cell_type": "code",
   "execution_count": 4,
   "metadata": {},
   "outputs": [],
   "source": [
    "#write code here\n",
    "df.drop('Unnamed: 0',axis=1,inplace=True)"
   ]
  },
  {
   "cell_type": "markdown",
   "metadata": {},
   "source": [
    "#### **Task 4: Check the number of rows and columns**"
   ]
  },
  {
   "cell_type": "code",
   "execution_count": 5,
   "metadata": {},
   "outputs": [
    {
     "data": {
      "text/plain": [
       "(215909, 9)"
      ]
     },
     "execution_count": 5,
     "metadata": {},
     "output_type": "execute_result"
    }
   ],
   "source": [
    "#write code here\n",
    "df.shape\n"
   ]
  },
  {
   "cell_type": "markdown",
   "metadata": {},
   "source": [
    "#### **Task 5: Check data types of all columns**"
   ]
  },
  {
   "cell_type": "code",
   "execution_count": 6,
   "metadata": {},
   "outputs": [
    {
     "data": {
      "text/plain": [
       "insert_date     object\n",
       "origin          object\n",
       "destination     object\n",
       "start_date      object\n",
       "end_date        object\n",
       "train_type      object\n",
       "price          float64\n",
       "train_class     object\n",
       "fare            object\n",
       "dtype: object"
      ]
     },
     "execution_count": 6,
     "metadata": {},
     "output_type": "execute_result"
    }
   ],
   "source": [
    "#write code here\n",
    "df.dtypes"
   ]
  },
  {
   "cell_type": "markdown",
   "metadata": {},
   "source": [
    "#### **Task 6: Check summary statistics**"
   ]
  },
  {
   "cell_type": "code",
   "execution_count": 7,
   "metadata": {},
   "outputs": [
    {
     "data": {
      "text/html": [
       "<div>\n",
       "<style scoped>\n",
       "    .dataframe tbody tr th:only-of-type {\n",
       "        vertical-align: middle;\n",
       "    }\n",
       "\n",
       "    .dataframe tbody tr th {\n",
       "        vertical-align: top;\n",
       "    }\n",
       "\n",
       "    .dataframe thead th {\n",
       "        text-align: right;\n",
       "    }\n",
       "</style>\n",
       "<table border=\"1\" class=\"dataframe\">\n",
       "  <thead>\n",
       "    <tr style=\"text-align: right;\">\n",
       "      <th></th>\n",
       "      <th>price</th>\n",
       "    </tr>\n",
       "  </thead>\n",
       "  <tbody>\n",
       "    <tr>\n",
       "      <th>count</th>\n",
       "      <td>202321.000000</td>\n",
       "    </tr>\n",
       "    <tr>\n",
       "      <th>mean</th>\n",
       "      <td>56.723877</td>\n",
       "    </tr>\n",
       "    <tr>\n",
       "      <th>std</th>\n",
       "      <td>25.531787</td>\n",
       "    </tr>\n",
       "    <tr>\n",
       "      <th>min</th>\n",
       "      <td>16.600000</td>\n",
       "    </tr>\n",
       "    <tr>\n",
       "      <th>25%</th>\n",
       "      <td>28.350000</td>\n",
       "    </tr>\n",
       "    <tr>\n",
       "      <th>50%</th>\n",
       "      <td>53.400000</td>\n",
       "    </tr>\n",
       "    <tr>\n",
       "      <th>75%</th>\n",
       "      <td>76.300000</td>\n",
       "    </tr>\n",
       "    <tr>\n",
       "      <th>max</th>\n",
       "      <td>206.800000</td>\n",
       "    </tr>\n",
       "  </tbody>\n",
       "</table>\n",
       "</div>"
      ],
      "text/plain": [
       "               price\n",
       "count  202321.000000\n",
       "mean       56.723877\n",
       "std        25.531787\n",
       "min        16.600000\n",
       "25%        28.350000\n",
       "50%        53.400000\n",
       "75%        76.300000\n",
       "max       206.800000"
      ]
     },
     "execution_count": 7,
     "metadata": {},
     "output_type": "execute_result"
    }
   ],
   "source": [
    "#write code here\n",
    "df.describe()"
   ]
  },
  {
   "cell_type": "markdown",
   "metadata": {},
   "source": [
    "#### **Task 7: Check summary statistics of all columns, including object dataypes**"
   ]
  },
  {
   "cell_type": "code",
   "execution_count": 8,
   "metadata": {},
   "outputs": [
    {
     "data": {
      "text/html": [
       "<div>\n",
       "<style scoped>\n",
       "    .dataframe tbody tr th:only-of-type {\n",
       "        vertical-align: middle;\n",
       "    }\n",
       "\n",
       "    .dataframe tbody tr th {\n",
       "        vertical-align: top;\n",
       "    }\n",
       "\n",
       "    .dataframe thead th {\n",
       "        text-align: right;\n",
       "    }\n",
       "</style>\n",
       "<table border=\"1\" class=\"dataframe\">\n",
       "  <thead>\n",
       "    <tr style=\"text-align: right;\">\n",
       "      <th></th>\n",
       "      <th>insert_date</th>\n",
       "      <th>origin</th>\n",
       "      <th>destination</th>\n",
       "      <th>start_date</th>\n",
       "      <th>end_date</th>\n",
       "      <th>train_type</th>\n",
       "      <th>price</th>\n",
       "      <th>train_class</th>\n",
       "      <th>fare</th>\n",
       "    </tr>\n",
       "  </thead>\n",
       "  <tbody>\n",
       "    <tr>\n",
       "      <th>count</th>\n",
       "      <td>215909</td>\n",
       "      <td>215909</td>\n",
       "      <td>215909</td>\n",
       "      <td>215909</td>\n",
       "      <td>215909</td>\n",
       "      <td>215909</td>\n",
       "      <td>202321.000000</td>\n",
       "      <td>215266</td>\n",
       "      <td>215266</td>\n",
       "    </tr>\n",
       "    <tr>\n",
       "      <th>unique</th>\n",
       "      <td>30543</td>\n",
       "      <td>5</td>\n",
       "      <td>5</td>\n",
       "      <td>2231</td>\n",
       "      <td>2870</td>\n",
       "      <td>16</td>\n",
       "      <td>NaN</td>\n",
       "      <td>5</td>\n",
       "      <td>5</td>\n",
       "    </tr>\n",
       "    <tr>\n",
       "      <th>top</th>\n",
       "      <td>2019-05-09 15:02:02</td>\n",
       "      <td>MADRID</td>\n",
       "      <td>MADRID</td>\n",
       "      <td>2019-06-02 17:30:00</td>\n",
       "      <td>2019-06-02 23:03:00</td>\n",
       "      <td>AVE</td>\n",
       "      <td>NaN</td>\n",
       "      <td>Turista</td>\n",
       "      <td>Promo</td>\n",
       "    </tr>\n",
       "    <tr>\n",
       "      <th>freq</th>\n",
       "      <td>90</td>\n",
       "      <td>110440</td>\n",
       "      <td>105469</td>\n",
       "      <td>2089</td>\n",
       "      <td>1278</td>\n",
       "      <td>126577</td>\n",
       "      <td>NaN</td>\n",
       "      <td>164016</td>\n",
       "      <td>132065</td>\n",
       "    </tr>\n",
       "    <tr>\n",
       "      <th>mean</th>\n",
       "      <td>NaN</td>\n",
       "      <td>NaN</td>\n",
       "      <td>NaN</td>\n",
       "      <td>NaN</td>\n",
       "      <td>NaN</td>\n",
       "      <td>NaN</td>\n",
       "      <td>56.723877</td>\n",
       "      <td>NaN</td>\n",
       "      <td>NaN</td>\n",
       "    </tr>\n",
       "    <tr>\n",
       "      <th>std</th>\n",
       "      <td>NaN</td>\n",
       "      <td>NaN</td>\n",
       "      <td>NaN</td>\n",
       "      <td>NaN</td>\n",
       "      <td>NaN</td>\n",
       "      <td>NaN</td>\n",
       "      <td>25.531787</td>\n",
       "      <td>NaN</td>\n",
       "      <td>NaN</td>\n",
       "    </tr>\n",
       "    <tr>\n",
       "      <th>min</th>\n",
       "      <td>NaN</td>\n",
       "      <td>NaN</td>\n",
       "      <td>NaN</td>\n",
       "      <td>NaN</td>\n",
       "      <td>NaN</td>\n",
       "      <td>NaN</td>\n",
       "      <td>16.600000</td>\n",
       "      <td>NaN</td>\n",
       "      <td>NaN</td>\n",
       "    </tr>\n",
       "    <tr>\n",
       "      <th>25%</th>\n",
       "      <td>NaN</td>\n",
       "      <td>NaN</td>\n",
       "      <td>NaN</td>\n",
       "      <td>NaN</td>\n",
       "      <td>NaN</td>\n",
       "      <td>NaN</td>\n",
       "      <td>28.350000</td>\n",
       "      <td>NaN</td>\n",
       "      <td>NaN</td>\n",
       "    </tr>\n",
       "    <tr>\n",
       "      <th>50%</th>\n",
       "      <td>NaN</td>\n",
       "      <td>NaN</td>\n",
       "      <td>NaN</td>\n",
       "      <td>NaN</td>\n",
       "      <td>NaN</td>\n",
       "      <td>NaN</td>\n",
       "      <td>53.400000</td>\n",
       "      <td>NaN</td>\n",
       "      <td>NaN</td>\n",
       "    </tr>\n",
       "    <tr>\n",
       "      <th>75%</th>\n",
       "      <td>NaN</td>\n",
       "      <td>NaN</td>\n",
       "      <td>NaN</td>\n",
       "      <td>NaN</td>\n",
       "      <td>NaN</td>\n",
       "      <td>NaN</td>\n",
       "      <td>76.300000</td>\n",
       "      <td>NaN</td>\n",
       "      <td>NaN</td>\n",
       "    </tr>\n",
       "    <tr>\n",
       "      <th>max</th>\n",
       "      <td>NaN</td>\n",
       "      <td>NaN</td>\n",
       "      <td>NaN</td>\n",
       "      <td>NaN</td>\n",
       "      <td>NaN</td>\n",
       "      <td>NaN</td>\n",
       "      <td>206.800000</td>\n",
       "      <td>NaN</td>\n",
       "      <td>NaN</td>\n",
       "    </tr>\n",
       "  </tbody>\n",
       "</table>\n",
       "</div>"
      ],
      "text/plain": [
       "                insert_date  origin destination           start_date  \\\n",
       "count                215909  215909      215909               215909   \n",
       "unique                30543       5           5                 2231   \n",
       "top     2019-05-09 15:02:02  MADRID      MADRID  2019-06-02 17:30:00   \n",
       "freq                     90  110440      105469                 2089   \n",
       "mean                    NaN     NaN         NaN                  NaN   \n",
       "std                     NaN     NaN         NaN                  NaN   \n",
       "min                     NaN     NaN         NaN                  NaN   \n",
       "25%                     NaN     NaN         NaN                  NaN   \n",
       "50%                     NaN     NaN         NaN                  NaN   \n",
       "75%                     NaN     NaN         NaN                  NaN   \n",
       "max                     NaN     NaN         NaN                  NaN   \n",
       "\n",
       "                   end_date train_type          price train_class    fare  \n",
       "count                215909     215909  202321.000000      215266  215266  \n",
       "unique                 2870         16            NaN           5       5  \n",
       "top     2019-06-02 23:03:00        AVE            NaN     Turista   Promo  \n",
       "freq                   1278     126577            NaN      164016  132065  \n",
       "mean                    NaN        NaN      56.723877         NaN     NaN  \n",
       "std                     NaN        NaN      25.531787         NaN     NaN  \n",
       "min                     NaN        NaN      16.600000         NaN     NaN  \n",
       "25%                     NaN        NaN      28.350000         NaN     NaN  \n",
       "50%                     NaN        NaN      53.400000         NaN     NaN  \n",
       "75%                     NaN        NaN      76.300000         NaN     NaN  \n",
       "max                     NaN        NaN     206.800000         NaN     NaN  "
      ]
     },
     "execution_count": 8,
     "metadata": {},
     "output_type": "execute_result"
    }
   ],
   "source": [
    "df.describe(include='all')"
   ]
  },
  {
   "cell_type": "markdown",
   "metadata": {},
   "source": [
    "**Question: Explain the summary statistics for the above data set**"
   ]
  },
  {
   "cell_type": "markdown",
   "metadata": {},
   "source": [
    "**Answer:** Origin,destination,start_date,end_date,train_type have NO Null Value.\n",
    "Price,Train Class,Fare contain some null values.\n",
    "MADRID has the highest Frequency in both Origin And Destination.\n",
    "The majority of people travel by AVE train.\n",
    "Turista has the highest freq in which people love to travel.\n"
   ]
  },
  {
   "cell_type": "markdown",
   "metadata": {},
   "source": [
    "#### **Task 8: Check null values in dataset**"
   ]
  },
  {
   "cell_type": "code",
   "execution_count": 9,
   "metadata": {},
   "outputs": [
    {
     "data": {
      "text/plain": [
       "insert_date        0\n",
       "origin             0\n",
       "destination        0\n",
       "start_date         0\n",
       "end_date           0\n",
       "train_type         0\n",
       "price          13588\n",
       "train_class      643\n",
       "fare             643\n",
       "dtype: int64"
      ]
     },
     "execution_count": 9,
     "metadata": {},
     "output_type": "execute_result"
    }
   ],
   "source": [
    "#write code here\n",
    "df.isnull().sum()"
   ]
  },
  {
   "cell_type": "markdown",
   "metadata": {},
   "source": [
    "#### **Task 9: Fill the Null values in the 'price' column.**<br>\n",
    "*Hint: Take mean*"
   ]
  },
  {
   "cell_type": "code",
   "execution_count": 10,
   "metadata": {},
   "outputs": [
    {
     "data": {
      "text/plain": [
       "13588"
      ]
     },
     "execution_count": 10,
     "metadata": {},
     "output_type": "execute_result"
    }
   ],
   "source": [
    "df['price'].isnull().sum()"
   ]
  },
  {
   "cell_type": "code",
   "execution_count": 11,
   "metadata": {},
   "outputs": [],
   "source": [
    "#Price depends on train type,train class and fare we cannot fill its value with mean() we have to take the mean of each category and then fill the NaN accordingly \n",
    "for train_type in df['train_type'].unique():\n",
    "    for train_class in df['train_class'].unique():\n",
    "        for fare in df['fare'].unique():\n",
    "            df.loc[(df['train_type']==train_type)&(df['train_class']==train_class)&(df['fare']==fare)&(df['price'].isnull()),'price']=df.loc[(df['train_type']==train_type)&(df['train_class']==train_class)&(df['fare']==fare),'price'].mean()\n",
    "            "
   ]
  },
  {
   "cell_type": "code",
   "execution_count": 12,
   "metadata": {},
   "outputs": [
    {
     "data": {
      "text/plain": [
       "2205"
      ]
     },
     "execution_count": 12,
     "metadata": {},
     "output_type": "execute_result"
    }
   ],
   "source": [
    "# we have filled mostly of NaN values but their is still some NaN value remaining\n",
    "df['price'].isnull().sum()"
   ]
  },
  {
   "cell_type": "code",
   "execution_count": 13,
   "metadata": {},
   "outputs": [
    {
     "data": {
      "text/html": [
       "<div>\n",
       "<style scoped>\n",
       "    .dataframe tbody tr th:only-of-type {\n",
       "        vertical-align: middle;\n",
       "    }\n",
       "\n",
       "    .dataframe tbody tr th {\n",
       "        vertical-align: top;\n",
       "    }\n",
       "\n",
       "    .dataframe thead th {\n",
       "        text-align: right;\n",
       "    }\n",
       "</style>\n",
       "<table border=\"1\" class=\"dataframe\">\n",
       "  <thead>\n",
       "    <tr style=\"text-align: right;\">\n",
       "      <th></th>\n",
       "      <th>insert_date</th>\n",
       "      <th>origin</th>\n",
       "      <th>destination</th>\n",
       "      <th>start_date</th>\n",
       "      <th>end_date</th>\n",
       "      <th>train_type</th>\n",
       "      <th>price</th>\n",
       "      <th>train_class</th>\n",
       "      <th>fare</th>\n",
       "    </tr>\n",
       "  </thead>\n",
       "  <tbody>\n",
       "    <tr>\n",
       "      <th>6606</th>\n",
       "      <td>2019-04-20 02:44:09</td>\n",
       "      <td>MADRID</td>\n",
       "      <td>BARCELONA</td>\n",
       "      <td>2019-06-01 20:30:00</td>\n",
       "      <td>2019-06-01 23:40:00</td>\n",
       "      <td>AVE</td>\n",
       "      <td>NaN</td>\n",
       "      <td>NaN</td>\n",
       "      <td>NaN</td>\n",
       "    </tr>\n",
       "    <tr>\n",
       "      <th>6826</th>\n",
       "      <td>2019-04-20 03:32:19</td>\n",
       "      <td>MADRID</td>\n",
       "      <td>BARCELONA</td>\n",
       "      <td>2019-06-01 20:30:00</td>\n",
       "      <td>2019-06-01 23:40:00</td>\n",
       "      <td>AVE</td>\n",
       "      <td>NaN</td>\n",
       "      <td>NaN</td>\n",
       "      <td>NaN</td>\n",
       "    </tr>\n",
       "    <tr>\n",
       "      <th>7244</th>\n",
       "      <td>2019-04-20 04:44:26</td>\n",
       "      <td>MADRID</td>\n",
       "      <td>BARCELONA</td>\n",
       "      <td>2019-06-01 20:30:00</td>\n",
       "      <td>2019-06-01 23:40:00</td>\n",
       "      <td>AVE</td>\n",
       "      <td>NaN</td>\n",
       "      <td>NaN</td>\n",
       "      <td>NaN</td>\n",
       "    </tr>\n",
       "    <tr>\n",
       "      <th>7524</th>\n",
       "      <td>2019-04-20 05:44:05</td>\n",
       "      <td>MADRID</td>\n",
       "      <td>BARCELONA</td>\n",
       "      <td>2019-06-01 20:30:00</td>\n",
       "      <td>2019-06-01 23:40:00</td>\n",
       "      <td>AVE</td>\n",
       "      <td>NaN</td>\n",
       "      <td>NaN</td>\n",
       "      <td>NaN</td>\n",
       "    </tr>\n",
       "    <tr>\n",
       "      <th>7591</th>\n",
       "      <td>2019-04-20 06:05:40</td>\n",
       "      <td>MADRID</td>\n",
       "      <td>BARCELONA</td>\n",
       "      <td>2019-06-01 20:30:00</td>\n",
       "      <td>2019-06-01 23:40:00</td>\n",
       "      <td>AVE</td>\n",
       "      <td>NaN</td>\n",
       "      <td>NaN</td>\n",
       "      <td>NaN</td>\n",
       "    </tr>\n",
       "    <tr>\n",
       "      <th>...</th>\n",
       "      <td>...</td>\n",
       "      <td>...</td>\n",
       "      <td>...</td>\n",
       "      <td>...</td>\n",
       "      <td>...</td>\n",
       "      <td>...</td>\n",
       "      <td>...</td>\n",
       "      <td>...</td>\n",
       "      <td>...</td>\n",
       "    </tr>\n",
       "    <tr>\n",
       "      <th>206554</th>\n",
       "      <td>2019-04-17 21:19:09</td>\n",
       "      <td>PONFERRADA</td>\n",
       "      <td>MADRID</td>\n",
       "      <td>2019-06-01 13:44:00</td>\n",
       "      <td>2019-06-01 21:48:00</td>\n",
       "      <td>LD-MD</td>\n",
       "      <td>NaN</td>\n",
       "      <td>NaN</td>\n",
       "      <td>NaN</td>\n",
       "    </tr>\n",
       "    <tr>\n",
       "      <th>206895</th>\n",
       "      <td>2019-04-17 22:17:23</td>\n",
       "      <td>PONFERRADA</td>\n",
       "      <td>MADRID</td>\n",
       "      <td>2019-06-01 13:44:00</td>\n",
       "      <td>2019-06-01 21:48:00</td>\n",
       "      <td>LD-MD</td>\n",
       "      <td>NaN</td>\n",
       "      <td>NaN</td>\n",
       "      <td>NaN</td>\n",
       "    </tr>\n",
       "    <tr>\n",
       "      <th>207073</th>\n",
       "      <td>2019-04-17 23:08:28</td>\n",
       "      <td>PONFERRADA</td>\n",
       "      <td>MADRID</td>\n",
       "      <td>2019-06-01 13:44:00</td>\n",
       "      <td>2019-06-01 21:48:00</td>\n",
       "      <td>LD-MD</td>\n",
       "      <td>NaN</td>\n",
       "      <td>NaN</td>\n",
       "      <td>NaN</td>\n",
       "    </tr>\n",
       "    <tr>\n",
       "      <th>207140</th>\n",
       "      <td>2019-04-17 23:16:52</td>\n",
       "      <td>SEVILLA</td>\n",
       "      <td>MADRID</td>\n",
       "      <td>2019-06-02 20:36:00</td>\n",
       "      <td>2019-06-02 23:14:00</td>\n",
       "      <td>ALVIA</td>\n",
       "      <td>NaN</td>\n",
       "      <td>Turista Plus</td>\n",
       "      <td>Flexible</td>\n",
       "    </tr>\n",
       "    <tr>\n",
       "      <th>207647</th>\n",
       "      <td>2019-04-18 01:22:50</td>\n",
       "      <td>SEVILLA</td>\n",
       "      <td>MADRID</td>\n",
       "      <td>2019-06-02 20:36:00</td>\n",
       "      <td>2019-06-02 23:14:00</td>\n",
       "      <td>ALVIA</td>\n",
       "      <td>NaN</td>\n",
       "      <td>Turista Plus</td>\n",
       "      <td>Flexible</td>\n",
       "    </tr>\n",
       "  </tbody>\n",
       "</table>\n",
       "<p>2205 rows × 9 columns</p>\n",
       "</div>"
      ],
      "text/plain": [
       "                insert_date      origin destination           start_date  \\\n",
       "6606    2019-04-20 02:44:09      MADRID   BARCELONA  2019-06-01 20:30:00   \n",
       "6826    2019-04-20 03:32:19      MADRID   BARCELONA  2019-06-01 20:30:00   \n",
       "7244    2019-04-20 04:44:26      MADRID   BARCELONA  2019-06-01 20:30:00   \n",
       "7524    2019-04-20 05:44:05      MADRID   BARCELONA  2019-06-01 20:30:00   \n",
       "7591    2019-04-20 06:05:40      MADRID   BARCELONA  2019-06-01 20:30:00   \n",
       "...                     ...         ...         ...                  ...   \n",
       "206554  2019-04-17 21:19:09  PONFERRADA      MADRID  2019-06-01 13:44:00   \n",
       "206895  2019-04-17 22:17:23  PONFERRADA      MADRID  2019-06-01 13:44:00   \n",
       "207073  2019-04-17 23:08:28  PONFERRADA      MADRID  2019-06-01 13:44:00   \n",
       "207140  2019-04-17 23:16:52     SEVILLA      MADRID  2019-06-02 20:36:00   \n",
       "207647  2019-04-18 01:22:50     SEVILLA      MADRID  2019-06-02 20:36:00   \n",
       "\n",
       "                   end_date train_type  price   train_class      fare  \n",
       "6606    2019-06-01 23:40:00        AVE    NaN           NaN       NaN  \n",
       "6826    2019-06-01 23:40:00        AVE    NaN           NaN       NaN  \n",
       "7244    2019-06-01 23:40:00        AVE    NaN           NaN       NaN  \n",
       "7524    2019-06-01 23:40:00        AVE    NaN           NaN       NaN  \n",
       "7591    2019-06-01 23:40:00        AVE    NaN           NaN       NaN  \n",
       "...                     ...        ...    ...           ...       ...  \n",
       "206554  2019-06-01 21:48:00      LD-MD    NaN           NaN       NaN  \n",
       "206895  2019-06-01 21:48:00      LD-MD    NaN           NaN       NaN  \n",
       "207073  2019-06-01 21:48:00      LD-MD    NaN           NaN       NaN  \n",
       "207140  2019-06-02 23:14:00      ALVIA    NaN  Turista Plus  Flexible  \n",
       "207647  2019-06-02 23:14:00      ALVIA    NaN  Turista Plus  Flexible  \n",
       "\n",
       "[2205 rows x 9 columns]"
      ]
     },
     "execution_count": 13,
     "metadata": {},
     "output_type": "execute_result"
    }
   ],
   "source": [
    "df[df.price.isnull()]"
   ]
  },
  {
   "cell_type": "code",
   "execution_count": 14,
   "metadata": {},
   "outputs": [],
   "source": [
    "# In some data their is still some NaN which is due to train Class and Fare are Null know i replace other Null values in price column with its mean\n",
    "#write code here\n",
    "df.price.fillna(df.price.mean(),inplace=True)"
   ]
  },
  {
   "cell_type": "code",
   "execution_count": 15,
   "metadata": {},
   "outputs": [
    {
     "data": {
      "text/plain": [
       "insert_date      0\n",
       "origin           0\n",
       "destination      0\n",
       "start_date       0\n",
       "end_date         0\n",
       "train_type       0\n",
       "price            0\n",
       "train_class    643\n",
       "fare           643\n",
       "dtype: int64"
      ]
     },
     "execution_count": 15,
     "metadata": {},
     "output_type": "execute_result"
    }
   ],
   "source": [
    "df.isnull().sum()"
   ]
  },
  {
   "cell_type": "code",
   "execution_count": 16,
   "metadata": {},
   "outputs": [
    {
     "data": {
      "text/plain": [
       "count    215909.000000\n",
       "mean         56.919485\n",
       "std          25.032735\n",
       "min          16.600000\n",
       "25%          28.350000\n",
       "50%          56.568509\n",
       "75%          76.300000\n",
       "max         206.800000\n",
       "Name: price, dtype: float64"
      ]
     },
     "execution_count": 16,
     "metadata": {},
     "output_type": "execute_result"
    }
   ],
   "source": [
    "df.price.describe()"
   ]
  },
  {
   "cell_type": "markdown",
   "metadata": {},
   "source": [
    "#### **Task 10: Drop the rows containing Null values in the attributes train_class and fare**"
   ]
  },
  {
   "cell_type": "code",
   "execution_count": 17,
   "metadata": {},
   "outputs": [
    {
     "name": "stdout",
     "output_type": "stream",
     "text": [
      "643 643\n"
     ]
    }
   ],
   "source": [
    "#write code here\n",
    "print(df['fare'].isnull().sum(),df['train_class'].isnull().sum())\n"
   ]
  },
  {
   "cell_type": "code",
   "execution_count": 18,
   "metadata": {},
   "outputs": [
    {
     "data": {
      "text/html": [
       "<div>\n",
       "<style scoped>\n",
       "    .dataframe tbody tr th:only-of-type {\n",
       "        vertical-align: middle;\n",
       "    }\n",
       "\n",
       "    .dataframe tbody tr th {\n",
       "        vertical-align: top;\n",
       "    }\n",
       "\n",
       "    .dataframe thead th {\n",
       "        text-align: right;\n",
       "    }\n",
       "</style>\n",
       "<table border=\"1\" class=\"dataframe\">\n",
       "  <thead>\n",
       "    <tr style=\"text-align: right;\">\n",
       "      <th></th>\n",
       "      <th>insert_date</th>\n",
       "      <th>origin</th>\n",
       "      <th>destination</th>\n",
       "      <th>start_date</th>\n",
       "      <th>end_date</th>\n",
       "      <th>train_type</th>\n",
       "      <th>price</th>\n",
       "      <th>train_class</th>\n",
       "      <th>fare</th>\n",
       "    </tr>\n",
       "  </thead>\n",
       "  <tbody>\n",
       "    <tr>\n",
       "      <th>6606</th>\n",
       "      <td>2019-04-20 02:44:09</td>\n",
       "      <td>MADRID</td>\n",
       "      <td>BARCELONA</td>\n",
       "      <td>2019-06-01 20:30:00</td>\n",
       "      <td>2019-06-01 23:40:00</td>\n",
       "      <td>AVE</td>\n",
       "      <td>56.919485</td>\n",
       "      <td>NaN</td>\n",
       "      <td>NaN</td>\n",
       "    </tr>\n",
       "    <tr>\n",
       "      <th>6826</th>\n",
       "      <td>2019-04-20 03:32:19</td>\n",
       "      <td>MADRID</td>\n",
       "      <td>BARCELONA</td>\n",
       "      <td>2019-06-01 20:30:00</td>\n",
       "      <td>2019-06-01 23:40:00</td>\n",
       "      <td>AVE</td>\n",
       "      <td>56.919485</td>\n",
       "      <td>NaN</td>\n",
       "      <td>NaN</td>\n",
       "    </tr>\n",
       "    <tr>\n",
       "      <th>7244</th>\n",
       "      <td>2019-04-20 04:44:26</td>\n",
       "      <td>MADRID</td>\n",
       "      <td>BARCELONA</td>\n",
       "      <td>2019-06-01 20:30:00</td>\n",
       "      <td>2019-06-01 23:40:00</td>\n",
       "      <td>AVE</td>\n",
       "      <td>56.919485</td>\n",
       "      <td>NaN</td>\n",
       "      <td>NaN</td>\n",
       "    </tr>\n",
       "    <tr>\n",
       "      <th>7524</th>\n",
       "      <td>2019-04-20 05:44:05</td>\n",
       "      <td>MADRID</td>\n",
       "      <td>BARCELONA</td>\n",
       "      <td>2019-06-01 20:30:00</td>\n",
       "      <td>2019-06-01 23:40:00</td>\n",
       "      <td>AVE</td>\n",
       "      <td>56.919485</td>\n",
       "      <td>NaN</td>\n",
       "      <td>NaN</td>\n",
       "    </tr>\n",
       "    <tr>\n",
       "      <th>7591</th>\n",
       "      <td>2019-04-20 06:05:40</td>\n",
       "      <td>MADRID</td>\n",
       "      <td>BARCELONA</td>\n",
       "      <td>2019-06-01 20:30:00</td>\n",
       "      <td>2019-06-01 23:40:00</td>\n",
       "      <td>AVE</td>\n",
       "      <td>56.919485</td>\n",
       "      <td>NaN</td>\n",
       "      <td>NaN</td>\n",
       "    </tr>\n",
       "    <tr>\n",
       "      <th>...</th>\n",
       "      <td>...</td>\n",
       "      <td>...</td>\n",
       "      <td>...</td>\n",
       "      <td>...</td>\n",
       "      <td>...</td>\n",
       "      <td>...</td>\n",
       "      <td>...</td>\n",
       "      <td>...</td>\n",
       "      <td>...</td>\n",
       "    </tr>\n",
       "    <tr>\n",
       "      <th>206034</th>\n",
       "      <td>2019-04-17 19:32:49</td>\n",
       "      <td>PONFERRADA</td>\n",
       "      <td>MADRID</td>\n",
       "      <td>2019-06-01 13:44:00</td>\n",
       "      <td>2019-06-01 21:48:00</td>\n",
       "      <td>LD-MD</td>\n",
       "      <td>56.919485</td>\n",
       "      <td>NaN</td>\n",
       "      <td>NaN</td>\n",
       "    </tr>\n",
       "    <tr>\n",
       "      <th>206353</th>\n",
       "      <td>2019-04-17 20:36:39</td>\n",
       "      <td>PONFERRADA</td>\n",
       "      <td>MADRID</td>\n",
       "      <td>2019-06-01 13:44:00</td>\n",
       "      <td>2019-06-01 21:48:00</td>\n",
       "      <td>LD-MD</td>\n",
       "      <td>56.919485</td>\n",
       "      <td>NaN</td>\n",
       "      <td>NaN</td>\n",
       "    </tr>\n",
       "    <tr>\n",
       "      <th>206554</th>\n",
       "      <td>2019-04-17 21:19:09</td>\n",
       "      <td>PONFERRADA</td>\n",
       "      <td>MADRID</td>\n",
       "      <td>2019-06-01 13:44:00</td>\n",
       "      <td>2019-06-01 21:48:00</td>\n",
       "      <td>LD-MD</td>\n",
       "      <td>56.919485</td>\n",
       "      <td>NaN</td>\n",
       "      <td>NaN</td>\n",
       "    </tr>\n",
       "    <tr>\n",
       "      <th>206895</th>\n",
       "      <td>2019-04-17 22:17:23</td>\n",
       "      <td>PONFERRADA</td>\n",
       "      <td>MADRID</td>\n",
       "      <td>2019-06-01 13:44:00</td>\n",
       "      <td>2019-06-01 21:48:00</td>\n",
       "      <td>LD-MD</td>\n",
       "      <td>56.919485</td>\n",
       "      <td>NaN</td>\n",
       "      <td>NaN</td>\n",
       "    </tr>\n",
       "    <tr>\n",
       "      <th>207073</th>\n",
       "      <td>2019-04-17 23:08:28</td>\n",
       "      <td>PONFERRADA</td>\n",
       "      <td>MADRID</td>\n",
       "      <td>2019-06-01 13:44:00</td>\n",
       "      <td>2019-06-01 21:48:00</td>\n",
       "      <td>LD-MD</td>\n",
       "      <td>56.919485</td>\n",
       "      <td>NaN</td>\n",
       "      <td>NaN</td>\n",
       "    </tr>\n",
       "  </tbody>\n",
       "</table>\n",
       "<p>643 rows × 9 columns</p>\n",
       "</div>"
      ],
      "text/plain": [
       "                insert_date      origin destination           start_date  \\\n",
       "6606    2019-04-20 02:44:09      MADRID   BARCELONA  2019-06-01 20:30:00   \n",
       "6826    2019-04-20 03:32:19      MADRID   BARCELONA  2019-06-01 20:30:00   \n",
       "7244    2019-04-20 04:44:26      MADRID   BARCELONA  2019-06-01 20:30:00   \n",
       "7524    2019-04-20 05:44:05      MADRID   BARCELONA  2019-06-01 20:30:00   \n",
       "7591    2019-04-20 06:05:40      MADRID   BARCELONA  2019-06-01 20:30:00   \n",
       "...                     ...         ...         ...                  ...   \n",
       "206034  2019-04-17 19:32:49  PONFERRADA      MADRID  2019-06-01 13:44:00   \n",
       "206353  2019-04-17 20:36:39  PONFERRADA      MADRID  2019-06-01 13:44:00   \n",
       "206554  2019-04-17 21:19:09  PONFERRADA      MADRID  2019-06-01 13:44:00   \n",
       "206895  2019-04-17 22:17:23  PONFERRADA      MADRID  2019-06-01 13:44:00   \n",
       "207073  2019-04-17 23:08:28  PONFERRADA      MADRID  2019-06-01 13:44:00   \n",
       "\n",
       "                   end_date train_type      price train_class fare  \n",
       "6606    2019-06-01 23:40:00        AVE  56.919485         NaN  NaN  \n",
       "6826    2019-06-01 23:40:00        AVE  56.919485         NaN  NaN  \n",
       "7244    2019-06-01 23:40:00        AVE  56.919485         NaN  NaN  \n",
       "7524    2019-06-01 23:40:00        AVE  56.919485         NaN  NaN  \n",
       "7591    2019-06-01 23:40:00        AVE  56.919485         NaN  NaN  \n",
       "...                     ...        ...        ...         ...  ...  \n",
       "206034  2019-06-01 21:48:00      LD-MD  56.919485         NaN  NaN  \n",
       "206353  2019-06-01 21:48:00      LD-MD  56.919485         NaN  NaN  \n",
       "206554  2019-06-01 21:48:00      LD-MD  56.919485         NaN  NaN  \n",
       "206895  2019-06-01 21:48:00      LD-MD  56.919485         NaN  NaN  \n",
       "207073  2019-06-01 21:48:00      LD-MD  56.919485         NaN  NaN  \n",
       "\n",
       "[643 rows x 9 columns]"
      ]
     },
     "execution_count": 18,
     "metadata": {},
     "output_type": "execute_result"
    }
   ],
   "source": [
    "df.loc[(df.train_class.isnull())&(df.fare.isnull())]"
   ]
  },
  {
   "cell_type": "code",
   "execution_count": 19,
   "metadata": {},
   "outputs": [],
   "source": [
    "df.dropna(subset=['train_class', 'fare'], how='all', inplace=True)"
   ]
  },
  {
   "cell_type": "code",
   "execution_count": 20,
   "metadata": {},
   "outputs": [
    {
     "data": {
      "text/html": [
       "<div>\n",
       "<style scoped>\n",
       "    .dataframe tbody tr th:only-of-type {\n",
       "        vertical-align: middle;\n",
       "    }\n",
       "\n",
       "    .dataframe tbody tr th {\n",
       "        vertical-align: top;\n",
       "    }\n",
       "\n",
       "    .dataframe thead th {\n",
       "        text-align: right;\n",
       "    }\n",
       "</style>\n",
       "<table border=\"1\" class=\"dataframe\">\n",
       "  <thead>\n",
       "    <tr style=\"text-align: right;\">\n",
       "      <th></th>\n",
       "      <th>insert_date</th>\n",
       "      <th>origin</th>\n",
       "      <th>destination</th>\n",
       "      <th>start_date</th>\n",
       "      <th>end_date</th>\n",
       "      <th>train_type</th>\n",
       "      <th>price</th>\n",
       "      <th>train_class</th>\n",
       "      <th>fare</th>\n",
       "    </tr>\n",
       "  </thead>\n",
       "  <tbody>\n",
       "  </tbody>\n",
       "</table>\n",
       "</div>"
      ],
      "text/plain": [
       "Empty DataFrame\n",
       "Columns: [insert_date, origin, destination, start_date, end_date, train_type, price, train_class, fare]\n",
       "Index: []"
      ]
     },
     "execution_count": 20,
     "metadata": {},
     "output_type": "execute_result"
    }
   ],
   "source": [
    "df.loc[(df.train_class.isnull())&(df.fare.isnull())]"
   ]
  },
  {
   "cell_type": "code",
   "execution_count": 21,
   "metadata": {},
   "outputs": [
    {
     "data": {
      "text/plain": [
       "insert_date    0\n",
       "origin         0\n",
       "destination    0\n",
       "start_date     0\n",
       "end_date       0\n",
       "train_type     0\n",
       "price          0\n",
       "train_class    0\n",
       "fare           0\n",
       "dtype: int64"
      ]
     },
     "execution_count": 21,
     "metadata": {},
     "output_type": "execute_result"
    }
   ],
   "source": [
    "df.isnull().sum()"
   ]
  },
  {
   "cell_type": "markdown",
   "metadata": {},
   "source": [
    "#### **Task 11: Drop 'insert_date'**"
   ]
  },
  {
   "cell_type": "code",
   "execution_count": 22,
   "metadata": {},
   "outputs": [],
   "source": [
    "#write code here\n",
    "df.drop('insert_date',axis=1,inplace=True)"
   ]
  },
  {
   "cell_type": "markdown",
   "metadata": {},
   "source": [
    "**Check null values again in dataset**"
   ]
  },
  {
   "cell_type": "code",
   "execution_count": 23,
   "metadata": {},
   "outputs": [
    {
     "data": {
      "text/plain": [
       "origin         0\n",
       "destination    0\n",
       "start_date     0\n",
       "end_date       0\n",
       "train_type     0\n",
       "price          0\n",
       "train_class    0\n",
       "fare           0\n",
       "dtype: int64"
      ]
     },
     "execution_count": 23,
     "metadata": {},
     "output_type": "execute_result"
    }
   ],
   "source": [
    "#write code here\n",
    "df.isnull().sum()"
   ]
  },
  {
   "cell_type": "markdown",
   "metadata": {},
   "source": [
    "#### **Task 12: Plot number of people boarding from different stations**\n"
   ]
  },
  {
   "cell_type": "code",
   "execution_count": 24,
   "metadata": {},
   "outputs": [
    {
     "data": {
      "image/png": "[encoded data removed]",
      "text/plain": [
       "<Figure size 432x288 with 1 Axes>"
      ]
     },
     "metadata": {},
     "output_type": "display_data"
    }
   ],
   "source": [
    "#write code here\n",
    "sns.countplot(x=df.origin);"
   ]
  },
  {
   "cell_type": "markdown",
   "metadata": {},
   "source": [
    "**Question: What insights do you get from the above plot?**"
   ]
  },
  {
   "cell_type": "markdown",
   "metadata": {},
   "source": [
    "**Answer:** The graph shows that MADRID has the highest boarding and PONFERRADA has the lowest boarding rate."
   ]
  },
  {
   "cell_type": "markdown",
   "metadata": {},
   "source": [
    "#### **Task 13: Plot number of people for the destination stations**\n"
   ]
  },
  {
   "cell_type": "code",
   "execution_count": 25,
   "metadata": {},
   "outputs": [
    {
     "data": {
      "image/png": "[encoded data removed]",
      "text/plain": [
       "<Figure size 720x360 with 1 Axes>"
      ]
     },
     "metadata": {},
     "output_type": "display_data"
    }
   ],
   "source": [
    "#write code here\n",
    "plt.figure(figsize=(10,5))\n",
    "sns.countplot(x=df.destination);"
   ]
  },
  {
   "cell_type": "markdown",
   "metadata": {},
   "source": [
    "**Question: What insights do you get from the above graph?**"
   ]
  },
  {
   "cell_type": "markdown",
   "metadata": {},
   "source": [
    "**Answer:** MADRID is the destination point of most the people"
   ]
  },
  {
   "cell_type": "markdown",
   "metadata": {},
   "source": [
    "#### **Task 14: Plot different types of train that runs in Spain**\n"
   ]
  },
  {
   "cell_type": "code",
   "execution_count": 26,
   "metadata": {},
   "outputs": [
    {
     "data": {
      "image/png": "[encoded data removed]",
      "text/plain": [
       "<Figure size 1080x576 with 1 Axes>"
      ]
     },
     "metadata": {},
     "output_type": "display_data"
    }
   ],
   "source": [
    "#write code here\n",
    "plt.figure(figsize=(15,8))\n",
    "sns.countplot(x=df.train_type);"
   ]
  },
  {
   "cell_type": "markdown",
   "metadata": {},
   "source": [
    "**Question: Which train runs the maximum in number as compared to other train types?**"
   ]
  },
  {
   "cell_type": "markdown",
   "metadata": {},
   "source": [
    "**Answer:** AVE runs the maximum as compared to other trains\n"
   ]
  },
  {
   "cell_type": "markdown",
   "metadata": {},
   "source": [
    "#### **Task 15: Plot number of trains of different class**\n"
   ]
  },
  {
   "cell_type": "code",
   "execution_count": 27,
   "metadata": {},
   "outputs": [
    {
     "data": {
      "text/html": [
       "<div>\n",
       "<style scoped>\n",
       "    .dataframe tbody tr th:only-of-type {\n",
       "        vertical-align: middle;\n",
       "    }\n",
       "\n",
       "    .dataframe tbody tr th {\n",
       "        vertical-align: top;\n",
       "    }\n",
       "\n",
       "    .dataframe thead th {\n",
       "        text-align: right;\n",
       "    }\n",
       "</style>\n",
       "<table border=\"1\" class=\"dataframe\">\n",
       "  <thead>\n",
       "    <tr style=\"text-align: right;\">\n",
       "      <th></th>\n",
       "      <th>index</th>\n",
       "      <th>train_class</th>\n",
       "    </tr>\n",
       "  </thead>\n",
       "  <tbody>\n",
       "    <tr>\n",
       "      <th>0</th>\n",
       "      <td>Turista</td>\n",
       "      <td>164016</td>\n",
       "    </tr>\n",
       "    <tr>\n",
       "      <th>1</th>\n",
       "      <td>Preferente</td>\n",
       "      <td>24476</td>\n",
       "    </tr>\n",
       "    <tr>\n",
       "      <th>2</th>\n",
       "      <td>Turista Plus</td>\n",
       "      <td>19922</td>\n",
       "    </tr>\n",
       "    <tr>\n",
       "      <th>3</th>\n",
       "      <td>Turista con enlace</td>\n",
       "      <td>6827</td>\n",
       "    </tr>\n",
       "    <tr>\n",
       "      <th>4</th>\n",
       "      <td>Cama Turista</td>\n",
       "      <td>25</td>\n",
       "    </tr>\n",
       "  </tbody>\n",
       "</table>\n",
       "</div>"
      ],
      "text/plain": [
       "                index  train_class\n",
       "0             Turista       164016\n",
       "1          Preferente        24476\n",
       "2        Turista Plus        19922\n",
       "3  Turista con enlace         6827\n",
       "4        Cama Turista           25"
      ]
     },
     "execution_count": 27,
     "metadata": {},
     "output_type": "execute_result"
    }
   ],
   "source": [
    "df.train_class.value_counts().reset_index()"
   ]
  },
  {
   "cell_type": "code",
   "execution_count": 28,
   "metadata": {},
   "outputs": [
    {
     "data": {
      "image/png": "[encoded data removed]",
      "text/plain": [
       "<Figure size 720x360 with 1 Axes>"
      ]
     },
     "metadata": {},
     "output_type": "display_data"
    }
   ],
   "source": [
    "#write code here\n",
    "plt.figure(figsize=(10,5))\n",
    "sns.countplot(x=df.train_class);"
   ]
  },
  {
   "cell_type": "markdown",
   "metadata": {},
   "source": [
    "**Question: Which the most common train class for traveling among people in general?**"
   ]
  },
  {
   "cell_type": "markdown",
   "metadata": {},
   "source": [
    "**Answer:** Turista is the most common class among people\n"
   ]
  },
  {
   "cell_type": "markdown",
   "metadata": {},
   "source": [
    "#### **Task 16: Plot number of tickets bought from each category**\n"
   ]
  },
  {
   "cell_type": "code",
   "execution_count": 29,
   "metadata": {},
   "outputs": [
    {
     "data": {
      "text/html": [
       "<div>\n",
       "<style scoped>\n",
       "    .dataframe tbody tr th:only-of-type {\n",
       "        vertical-align: middle;\n",
       "    }\n",
       "\n",
       "    .dataframe tbody tr th {\n",
       "        vertical-align: top;\n",
       "    }\n",
       "\n",
       "    .dataframe thead th {\n",
       "        text-align: right;\n",
       "    }\n",
       "</style>\n",
       "<table border=\"1\" class=\"dataframe\">\n",
       "  <thead>\n",
       "    <tr style=\"text-align: right;\">\n",
       "      <th></th>\n",
       "      <th>origin</th>\n",
       "      <th>destination</th>\n",
       "      <th>start_date</th>\n",
       "      <th>end_date</th>\n",
       "      <th>train_type</th>\n",
       "      <th>price</th>\n",
       "      <th>train_class</th>\n",
       "      <th>fare</th>\n",
       "    </tr>\n",
       "  </thead>\n",
       "  <tbody>\n",
       "    <tr>\n",
       "      <th>0</th>\n",
       "      <td>PONFERRADA</td>\n",
       "      <td>MADRID</td>\n",
       "      <td>2019-06-02 15:00:00</td>\n",
       "      <td>2019-06-02 19:42:00</td>\n",
       "      <td>MD-AVE</td>\n",
       "      <td>59.50</td>\n",
       "      <td>Turista con enlace</td>\n",
       "      <td>Flexible</td>\n",
       "    </tr>\n",
       "    <tr>\n",
       "      <th>1</th>\n",
       "      <td>PONFERRADA</td>\n",
       "      <td>MADRID</td>\n",
       "      <td>2019-06-02 17:15:00</td>\n",
       "      <td>2019-06-02 23:03:00</td>\n",
       "      <td>MD-AVE</td>\n",
       "      <td>34.65</td>\n",
       "      <td>Turista con enlace</td>\n",
       "      <td>Promo +</td>\n",
       "    </tr>\n",
       "    <tr>\n",
       "      <th>2</th>\n",
       "      <td>PONFERRADA</td>\n",
       "      <td>MADRID</td>\n",
       "      <td>2019-06-02 17:15:00</td>\n",
       "      <td>2019-06-02 23:10:00</td>\n",
       "      <td>MD-LD</td>\n",
       "      <td>39.95</td>\n",
       "      <td>Turista con enlace</td>\n",
       "      <td>Promo +</td>\n",
       "    </tr>\n",
       "    <tr>\n",
       "      <th>3</th>\n",
       "      <td>PONFERRADA</td>\n",
       "      <td>MADRID</td>\n",
       "      <td>2019-06-02 17:15:00</td>\n",
       "      <td>2019-06-02 22:14:00</td>\n",
       "      <td>MD-AVE</td>\n",
       "      <td>40.60</td>\n",
       "      <td>Turista con enlace</td>\n",
       "      <td>Promo +</td>\n",
       "    </tr>\n",
       "    <tr>\n",
       "      <th>4</th>\n",
       "      <td>PONFERRADA</td>\n",
       "      <td>MADRID</td>\n",
       "      <td>2019-06-02 18:55:00</td>\n",
       "      <td>2019-06-02 23:03:00</td>\n",
       "      <td>ALVIA</td>\n",
       "      <td>27.90</td>\n",
       "      <td>Turista</td>\n",
       "      <td>Promo</td>\n",
       "    </tr>\n",
       "  </tbody>\n",
       "</table>\n",
       "</div>"
      ],
      "text/plain": [
       "       origin destination           start_date             end_date  \\\n",
       "0  PONFERRADA      MADRID  2019-06-02 15:00:00  2019-06-02 19:42:00   \n",
       "1  PONFERRADA      MADRID  2019-06-02 17:15:00  2019-06-02 23:03:00   \n",
       "2  PONFERRADA      MADRID  2019-06-02 17:15:00  2019-06-02 23:10:00   \n",
       "3  PONFERRADA      MADRID  2019-06-02 17:15:00  2019-06-02 22:14:00   \n",
       "4  PONFERRADA      MADRID  2019-06-02 18:55:00  2019-06-02 23:03:00   \n",
       "\n",
       "  train_type  price         train_class      fare  \n",
       "0     MD-AVE  59.50  Turista con enlace  Flexible  \n",
       "1     MD-AVE  34.65  Turista con enlace   Promo +  \n",
       "2      MD-LD  39.95  Turista con enlace   Promo +  \n",
       "3     MD-AVE  40.60  Turista con enlace   Promo +  \n",
       "4      ALVIA  27.90             Turista     Promo  "
      ]
     },
     "execution_count": 29,
     "metadata": {},
     "output_type": "execute_result"
    }
   ],
   "source": [
    "df.head()"
   ]
  },
  {
   "cell_type": "code",
   "execution_count": 30,
   "metadata": {},
   "outputs": [
    {
     "data": {
      "image/png": "[encoded data removed]",
      "text/plain": [
       "<Figure size 432x288 with 1 Axes>"
      ]
     },
     "metadata": {},
     "output_type": "display_data"
    }
   ],
   "source": [
    "#write code here\n",
    "sns.countplot(x=df.fare);"
   ]
  },
  {
   "cell_type": "markdown",
   "metadata": {},
   "source": [
    "**Question: Which the most common tickets are bought?**"
   ]
  },
  {
   "cell_type": "markdown",
   "metadata": {},
   "source": [
    "**Answer:** Most of the people bought tickets from Promo category"
   ]
  },
  {
   "cell_type": "markdown",
   "metadata": {},
   "source": [
    "#### **Task 17: Plot distribution of the ticket prices**"
   ]
  },
  {
   "cell_type": "code",
   "execution_count": 31,
   "metadata": {},
   "outputs": [
    {
     "name": "stderr",
     "output_type": "stream",
     "text": [
      "C:\\Users\\lenovo\\anaconda3\\lib\\site-packages\\seaborn\\distributions.py:2619: FutureWarning: `distplot` is a deprecated function and will be removed in a future version. Please adapt your code to use either `displot` (a figure-level function with similar flexibility) or `histplot` (an axes-level function for histograms).\n",
      "  warnings.warn(msg, FutureWarning)\n"
     ]
    },
    {
     "data": {
      "image/png": "[encoded data removed]",
      "text/plain": [
       "<Figure size 432x288 with 1 Axes>"
      ]
     },
     "metadata": {},
     "output_type": "display_data"
    }
   ],
   "source": [
    "#write code here\n",
    "sns.distplot(x=df.price,bins=30);"
   ]
  },
  {
   "cell_type": "markdown",
   "metadata": {},
   "source": [
    "**Question: What readings can you get from the above plot?**"
   ]
  },
  {
   "cell_type": "markdown",
   "metadata": {},
   "source": [
    "**Answer:** The graph shows that Most people travel within the price of 25-40    "
   ]
  },
  {
   "cell_type": "markdown",
   "metadata": {},
   "source": [
    "###### **Task 18: Show train_class vs price through boxplot**"
   ]
  },
  {
   "cell_type": "code",
   "execution_count": 32,
   "metadata": {},
   "outputs": [
    {
     "data": {
      "image/png": "[encoded data removed]",
      "text/plain": [
       "<Figure size 720x360 with 1 Axes>"
      ]
     },
     "metadata": {},
     "output_type": "display_data"
    }
   ],
   "source": [
    "#write code here\n",
    "plt.figure(figsize=(10,5))\n",
    "sns.boxplot(x=df.train_class,y=df.price);"
   ]
  },
  {
   "cell_type": "markdown",
   "metadata": {},
   "source": [
    "**Question: What pricing trends can you find out by looking at the plot above?**"
   ]
  },
  {
   "cell_type": "markdown",
   "metadata": {},
   "source": [
    "**Answer:**In Turista plus class prices are higher as compared to others because its medain , lower and upper qurtile are much higher than others."
   ]
  },
  {
   "cell_type": "markdown",
   "metadata": {},
   "source": [
    "#### **Task 19: Show train_type vs price through boxplot**\n"
   ]
  },
  {
   "cell_type": "code",
   "execution_count": 33,
   "metadata": {},
   "outputs": [
    {
     "data": {
      "image/png": "[encoded data removed]",
      "text/plain": [
       "<Figure size 1440x720 with 1 Axes>"
      ]
     },
     "metadata": {},
     "output_type": "display_data"
    }
   ],
   "source": [
    "#write code here\n",
    "plt.figure(figsize=(20,10))\n",
    "sns.boxplot(x='train_type',y='price',data=df);"
   ]
  },
  {
   "cell_type": "markdown",
   "metadata": {},
   "source": [
    "**Question: Which type of trains cost more as compared to others?**"
   ]
  },
  {
   "cell_type": "markdown",
   "metadata": {},
   "source": [
    "**Answer:** Ave train cost more as compared to Others because its median,lower and upper quartile are higher than others\n"
   ]
  },
  {
   "cell_type": "markdown",
   "metadata": {},
   "source": [
    "## Feature Engineering\n"
   ]
  },
  {
   "cell_type": "code",
   "execution_count": 34,
   "metadata": {},
   "outputs": [],
   "source": [
    "df = df.reset_index()"
   ]
  },
  {
   "cell_type": "markdown",
   "metadata": {},
   "source": [
    "**Finding the travel time between the place of origin and destination**<br>\n",
    "We need to find out the travel time for each entry which can be obtained from the 'start_date' and 'end_date' column. Also if you see, these columns are in object type therefore datetimeFormat should be defined to perform the necessary operation of getting the required time."
   ]
  },
  {
   "cell_type": "markdown",
   "metadata": {},
   "source": [
    "**Import datetime library**"
   ]
  },
  {
   "cell_type": "code",
   "execution_count": 35,
   "metadata": {},
   "outputs": [],
   "source": [
    "#write code here\n",
    "import datetime"
   ]
  },
  {
   "cell_type": "code",
   "execution_count": 36,
   "metadata": {},
   "outputs": [],
   "source": [
    "datetimeFormat = '%Y-%m-%d %H:%M:%S'\n",
    "def fun(a,b):\n",
    "    diff = datetime.datetime.strptime(b, datetimeFormat)- datetime.datetime.strptime(a, datetimeFormat)\n",
    "    return(diff.seconds/3600.0)                  \n",
    "    "
   ]
  },
  {
   "cell_type": "code",
   "execution_count": 37,
   "metadata": {},
   "outputs": [],
   "source": [
    "df['travel_time_in_hrs'] = df.apply(lambda x:fun(x['start_date'],x['end_date']),axis=1) "
   ]
  },
  {
   "cell_type": "markdown",
   "metadata": {},
   "source": [
    "#### **Task 20: Remove redundant features**\n"
   ]
  },
  {
   "cell_type": "markdown",
   "metadata": {},
   "source": [
    "**You need to remove features that are giving the related values as  'travel_time_in_hrs'**<br>\n",
    "*Hint: Look for date related columns*"
   ]
  },
  {
   "cell_type": "code",
   "execution_count": 38,
   "metadata": {
    "scrolled": true
   },
   "outputs": [],
   "source": [
    "#write code here\n",
    "df.drop(['start_date','end_date'],axis=1,inplace=True)"
   ]
  },
  {
   "cell_type": "markdown",
   "metadata": {},
   "source": [
    "We now need to find out the pricing from 'MADRID' to other destinations. We also need to find out time which each train requires for travelling. "
   ]
  },
  {
   "cell_type": "markdown",
   "metadata": {},
   "source": [
    "## **Travelling from MADRID to SEVILLA**"
   ]
  },
  {
   "cell_type": "markdown",
   "metadata": {},
   "source": [
    "#### Task 21: Findout people travelling from MADRID to SEVILLA"
   ]
  },
  {
   "cell_type": "code",
   "execution_count": 39,
   "metadata": {},
   "outputs": [
    {
     "data": {
      "text/html": [
       "<div>\n",
       "<style scoped>\n",
       "    .dataframe tbody tr th:only-of-type {\n",
       "        vertical-align: middle;\n",
       "    }\n",
       "\n",
       "    .dataframe tbody tr th {\n",
       "        vertical-align: top;\n",
       "    }\n",
       "\n",
       "    .dataframe thead th {\n",
       "        text-align: right;\n",
       "    }\n",
       "</style>\n",
       "<table border=\"1\" class=\"dataframe\">\n",
       "  <thead>\n",
       "    <tr style=\"text-align: right;\">\n",
       "      <th></th>\n",
       "      <th>index</th>\n",
       "      <th>origin</th>\n",
       "      <th>destination</th>\n",
       "      <th>train_type</th>\n",
       "      <th>price</th>\n",
       "      <th>train_class</th>\n",
       "      <th>fare</th>\n",
       "      <th>travel_time_in_hrs</th>\n",
       "    </tr>\n",
       "  </thead>\n",
       "  <tbody>\n",
       "    <tr>\n",
       "      <th>364</th>\n",
       "      <td>364</td>\n",
       "      <td>MADRID</td>\n",
       "      <td>SEVILLA</td>\n",
       "      <td>AV City</td>\n",
       "      <td>49.150000</td>\n",
       "      <td>Turista</td>\n",
       "      <td>Promo</td>\n",
       "      <td>2.916667</td>\n",
       "    </tr>\n",
       "    <tr>\n",
       "      <th>365</th>\n",
       "      <td>365</td>\n",
       "      <td>MADRID</td>\n",
       "      <td>SEVILLA</td>\n",
       "      <td>ALVIA</td>\n",
       "      <td>56.568509</td>\n",
       "      <td>Preferente</td>\n",
       "      <td>Promo</td>\n",
       "      <td>2.733333</td>\n",
       "    </tr>\n",
       "    <tr>\n",
       "      <th>366</th>\n",
       "      <td>366</td>\n",
       "      <td>MADRID</td>\n",
       "      <td>SEVILLA</td>\n",
       "      <td>AVE</td>\n",
       "      <td>69.400000</td>\n",
       "      <td>Preferente</td>\n",
       "      <td>Promo</td>\n",
       "      <td>2.633333</td>\n",
       "    </tr>\n",
       "    <tr>\n",
       "      <th>367</th>\n",
       "      <td>367</td>\n",
       "      <td>MADRID</td>\n",
       "      <td>SEVILLA</td>\n",
       "      <td>AVE</td>\n",
       "      <td>76.300000</td>\n",
       "      <td>Turista</td>\n",
       "      <td>Flexible</td>\n",
       "      <td>2.533333</td>\n",
       "    </tr>\n",
       "    <tr>\n",
       "      <th>368</th>\n",
       "      <td>368</td>\n",
       "      <td>MADRID</td>\n",
       "      <td>SEVILLA</td>\n",
       "      <td>ALVIA</td>\n",
       "      <td>56.568509</td>\n",
       "      <td>Preferente</td>\n",
       "      <td>Promo</td>\n",
       "      <td>2.600000</td>\n",
       "    </tr>\n",
       "    <tr>\n",
       "      <th>...</th>\n",
       "      <td>...</td>\n",
       "      <td>...</td>\n",
       "      <td>...</td>\n",
       "      <td>...</td>\n",
       "      <td>...</td>\n",
       "      <td>...</td>\n",
       "      <td>...</td>\n",
       "      <td>...</td>\n",
       "    </tr>\n",
       "    <tr>\n",
       "      <th>215261</th>\n",
       "      <td>215904</td>\n",
       "      <td>MADRID</td>\n",
       "      <td>SEVILLA</td>\n",
       "      <td>AVE</td>\n",
       "      <td>47.300000</td>\n",
       "      <td>Turista</td>\n",
       "      <td>Promo</td>\n",
       "      <td>2.633333</td>\n",
       "    </tr>\n",
       "    <tr>\n",
       "      <th>215262</th>\n",
       "      <td>215905</td>\n",
       "      <td>MADRID</td>\n",
       "      <td>SEVILLA</td>\n",
       "      <td>AVE</td>\n",
       "      <td>47.300000</td>\n",
       "      <td>Turista</td>\n",
       "      <td>Promo</td>\n",
       "      <td>2.533333</td>\n",
       "    </tr>\n",
       "    <tr>\n",
       "      <th>215263</th>\n",
       "      <td>215906</td>\n",
       "      <td>MADRID</td>\n",
       "      <td>SEVILLA</td>\n",
       "      <td>AVE</td>\n",
       "      <td>47.300000</td>\n",
       "      <td>Turista</td>\n",
       "      <td>Promo</td>\n",
       "      <td>2.633333</td>\n",
       "    </tr>\n",
       "    <tr>\n",
       "      <th>215264</th>\n",
       "      <td>215907</td>\n",
       "      <td>MADRID</td>\n",
       "      <td>SEVILLA</td>\n",
       "      <td>AVE</td>\n",
       "      <td>47.300000</td>\n",
       "      <td>Turista</td>\n",
       "      <td>Promo</td>\n",
       "      <td>2.666667</td>\n",
       "    </tr>\n",
       "    <tr>\n",
       "      <th>215265</th>\n",
       "      <td>215908</td>\n",
       "      <td>MADRID</td>\n",
       "      <td>SEVILLA</td>\n",
       "      <td>AV City</td>\n",
       "      <td>52.200000</td>\n",
       "      <td>Turista Plus</td>\n",
       "      <td>Promo</td>\n",
       "      <td>2.750000</td>\n",
       "    </tr>\n",
       "  </tbody>\n",
       "</table>\n",
       "<p>26961 rows × 8 columns</p>\n",
       "</div>"
      ],
      "text/plain": [
       "         index  origin destination train_type      price   train_class  \\\n",
       "364        364  MADRID     SEVILLA    AV City  49.150000       Turista   \n",
       "365        365  MADRID     SEVILLA      ALVIA  56.568509    Preferente   \n",
       "366        366  MADRID     SEVILLA        AVE  69.400000    Preferente   \n",
       "367        367  MADRID     SEVILLA        AVE  76.300000       Turista   \n",
       "368        368  MADRID     SEVILLA      ALVIA  56.568509    Preferente   \n",
       "...        ...     ...         ...        ...        ...           ...   \n",
       "215261  215904  MADRID     SEVILLA        AVE  47.300000       Turista   \n",
       "215262  215905  MADRID     SEVILLA        AVE  47.300000       Turista   \n",
       "215263  215906  MADRID     SEVILLA        AVE  47.300000       Turista   \n",
       "215264  215907  MADRID     SEVILLA        AVE  47.300000       Turista   \n",
       "215265  215908  MADRID     SEVILLA    AV City  52.200000  Turista Plus   \n",
       "\n",
       "            fare  travel_time_in_hrs  \n",
       "364        Promo            2.916667  \n",
       "365        Promo            2.733333  \n",
       "366        Promo            2.633333  \n",
       "367     Flexible            2.533333  \n",
       "368        Promo            2.600000  \n",
       "...          ...                 ...  \n",
       "215261     Promo            2.633333  \n",
       "215262     Promo            2.533333  \n",
       "215263     Promo            2.633333  \n",
       "215264     Promo            2.666667  \n",
       "215265     Promo            2.750000  \n",
       "\n",
       "[26961 rows x 8 columns]"
      ]
     },
     "execution_count": 39,
     "metadata": {},
     "output_type": "execute_result"
    }
   ],
   "source": [
    "df1=df[(df.origin=='MADRID')&(df.destination=='SEVILLA')]\n",
    "df1"
   ]
  },
  {
   "cell_type": "markdown",
   "metadata": {},
   "source": [
    "#### Task 22: Make a plot for finding out travelling hours for each train type"
   ]
  },
  {
   "cell_type": "code",
   "execution_count": 40,
   "metadata": {
    "scrolled": true
   },
   "outputs": [
    {
     "data": {
      "image/png": "[encoded data removed]",
      "text/plain": [
       "<Figure size 576x360 with 1 Axes>"
      ]
     },
     "metadata": {
      "needs_background": "light"
     },
     "output_type": "display_data"
    }
   ],
   "source": [
    "#write code here\n",
    "%matplotlib inline\n",
    "\n",
    "plt.figure(figsize=(8,5))\n",
    "sns.barplot(x=df1.train_type,y=df1.travel_time_in_hrs);"
   ]
  },
  {
   "cell_type": "markdown",
   "metadata": {},
   "source": [
    "#### **Task 23: Show train_type vs price through boxplot**\n"
   ]
  },
  {
   "cell_type": "code",
   "execution_count": 41,
   "metadata": {},
   "outputs": [
    {
     "data": {
      "text/plain": [
       "AVE          19556\n",
       "ALVIA         3435\n",
       "AV City       2766\n",
       "MD-LD          677\n",
       "INTERCITY      520\n",
       "LD-AVE           7\n",
       "Name: train_type, dtype: int64"
      ]
     },
     "execution_count": 41,
     "metadata": {},
     "output_type": "execute_result"
    }
   ],
   "source": [
    "df1.train_type.value_counts()"
   ]
  },
  {
   "cell_type": "code",
   "execution_count": 42,
   "metadata": {},
   "outputs": [
    {
     "data": {
      "image/png": "[encoded data removed]",
      "text/plain": [
       "<Figure size 576x360 with 1 Axes>"
      ]
     },
     "metadata": {
      "needs_background": "light"
     },
     "output_type": "display_data"
    }
   ],
   "source": [
    "#write code here\n",
    "plt.figure(figsize=(8,5))\n",
    "sns.boxplot(x=df1.train_type,y=df1.price);"
   ]
  },
  {
   "cell_type": "markdown",
   "metadata": {},
   "source": [
    "## **Travelling from MADRID to BARCELONA**\n"
   ]
  },
  {
   "cell_type": "markdown",
   "metadata": {},
   "source": [
    "#### Task 24: Findout people travelling from MADRID to BARCELONA"
   ]
  },
  {
   "cell_type": "code",
   "execution_count": 43,
   "metadata": {},
   "outputs": [
    {
     "data": {
      "text/html": [
       "<div>\n",
       "<style scoped>\n",
       "    .dataframe tbody tr th:only-of-type {\n",
       "        vertical-align: middle;\n",
       "    }\n",
       "\n",
       "    .dataframe tbody tr th {\n",
       "        vertical-align: top;\n",
       "    }\n",
       "\n",
       "    .dataframe thead th {\n",
       "        text-align: right;\n",
       "    }\n",
       "</style>\n",
       "<table border=\"1\" class=\"dataframe\">\n",
       "  <thead>\n",
       "    <tr style=\"text-align: right;\">\n",
       "      <th></th>\n",
       "      <th>index</th>\n",
       "      <th>origin</th>\n",
       "      <th>destination</th>\n",
       "      <th>train_type</th>\n",
       "      <th>price</th>\n",
       "      <th>train_class</th>\n",
       "      <th>fare</th>\n",
       "      <th>travel_time_in_hrs</th>\n",
       "    </tr>\n",
       "  </thead>\n",
       "  <tbody>\n",
       "    <tr>\n",
       "      <th>79</th>\n",
       "      <td>79</td>\n",
       "      <td>MADRID</td>\n",
       "      <td>BARCELONA</td>\n",
       "      <td>R. EXPRES</td>\n",
       "      <td>43.25</td>\n",
       "      <td>Turista</td>\n",
       "      <td>Adulto ida</td>\n",
       "      <td>9.366667</td>\n",
       "    </tr>\n",
       "    <tr>\n",
       "      <th>80</th>\n",
       "      <td>80</td>\n",
       "      <td>MADRID</td>\n",
       "      <td>BARCELONA</td>\n",
       "      <td>R. EXPRES</td>\n",
       "      <td>43.25</td>\n",
       "      <td>Turista</td>\n",
       "      <td>Adulto ida</td>\n",
       "      <td>9.366667</td>\n",
       "    </tr>\n",
       "    <tr>\n",
       "      <th>81</th>\n",
       "      <td>81</td>\n",
       "      <td>MADRID</td>\n",
       "      <td>BARCELONA</td>\n",
       "      <td>R. EXPRES</td>\n",
       "      <td>43.25</td>\n",
       "      <td>Turista</td>\n",
       "      <td>Adulto ida</td>\n",
       "      <td>9.366667</td>\n",
       "    </tr>\n",
       "    <tr>\n",
       "      <th>82</th>\n",
       "      <td>82</td>\n",
       "      <td>MADRID</td>\n",
       "      <td>BARCELONA</td>\n",
       "      <td>R. EXPRES</td>\n",
       "      <td>43.25</td>\n",
       "      <td>Turista</td>\n",
       "      <td>Adulto ida</td>\n",
       "      <td>9.366667</td>\n",
       "    </tr>\n",
       "    <tr>\n",
       "      <th>83</th>\n",
       "      <td>83</td>\n",
       "      <td>MADRID</td>\n",
       "      <td>BARCELONA</td>\n",
       "      <td>AVE</td>\n",
       "      <td>66.75</td>\n",
       "      <td>Turista</td>\n",
       "      <td>Promo</td>\n",
       "      <td>3.150000</td>\n",
       "    </tr>\n",
       "    <tr>\n",
       "      <th>...</th>\n",
       "      <td>...</td>\n",
       "      <td>...</td>\n",
       "      <td>...</td>\n",
       "      <td>...</td>\n",
       "      <td>...</td>\n",
       "      <td>...</td>\n",
       "      <td>...</td>\n",
       "      <td>...</td>\n",
       "    </tr>\n",
       "    <tr>\n",
       "      <th>215085</th>\n",
       "      <td>215728</td>\n",
       "      <td>MADRID</td>\n",
       "      <td>BARCELONA</td>\n",
       "      <td>AVE</td>\n",
       "      <td>80.15</td>\n",
       "      <td>Turista Plus</td>\n",
       "      <td>Promo</td>\n",
       "      <td>2.750000</td>\n",
       "    </tr>\n",
       "    <tr>\n",
       "      <th>215086</th>\n",
       "      <td>215729</td>\n",
       "      <td>MADRID</td>\n",
       "      <td>BARCELONA</td>\n",
       "      <td>AVE</td>\n",
       "      <td>98.00</td>\n",
       "      <td>Preferente</td>\n",
       "      <td>Promo</td>\n",
       "      <td>3.166667</td>\n",
       "    </tr>\n",
       "    <tr>\n",
       "      <th>215087</th>\n",
       "      <td>215730</td>\n",
       "      <td>MADRID</td>\n",
       "      <td>BARCELONA</td>\n",
       "      <td>AVE</td>\n",
       "      <td>69.80</td>\n",
       "      <td>Turista Plus</td>\n",
       "      <td>Promo</td>\n",
       "      <td>2.833333</td>\n",
       "    </tr>\n",
       "    <tr>\n",
       "      <th>215088</th>\n",
       "      <td>215731</td>\n",
       "      <td>MADRID</td>\n",
       "      <td>BARCELONA</td>\n",
       "      <td>AVE</td>\n",
       "      <td>58.15</td>\n",
       "      <td>Turista</td>\n",
       "      <td>Promo</td>\n",
       "      <td>3.166667</td>\n",
       "    </tr>\n",
       "    <tr>\n",
       "      <th>215089</th>\n",
       "      <td>215732</td>\n",
       "      <td>MADRID</td>\n",
       "      <td>BARCELONA</td>\n",
       "      <td>AVE</td>\n",
       "      <td>66.75</td>\n",
       "      <td>Turista</td>\n",
       "      <td>Promo</td>\n",
       "      <td>3.166667</td>\n",
       "    </tr>\n",
       "  </tbody>\n",
       "</table>\n",
       "<p>40728 rows × 8 columns</p>\n",
       "</div>"
      ],
      "text/plain": [
       "         index  origin destination train_type  price   train_class  \\\n",
       "79          79  MADRID   BARCELONA  R. EXPRES  43.25       Turista   \n",
       "80          80  MADRID   BARCELONA  R. EXPRES  43.25       Turista   \n",
       "81          81  MADRID   BARCELONA  R. EXPRES  43.25       Turista   \n",
       "82          82  MADRID   BARCELONA  R. EXPRES  43.25       Turista   \n",
       "83          83  MADRID   BARCELONA        AVE  66.75       Turista   \n",
       "...        ...     ...         ...        ...    ...           ...   \n",
       "215085  215728  MADRID   BARCELONA        AVE  80.15  Turista Plus   \n",
       "215086  215729  MADRID   BARCELONA        AVE  98.00    Preferente   \n",
       "215087  215730  MADRID   BARCELONA        AVE  69.80  Turista Plus   \n",
       "215088  215731  MADRID   BARCELONA        AVE  58.15       Turista   \n",
       "215089  215732  MADRID   BARCELONA        AVE  66.75       Turista   \n",
       "\n",
       "              fare  travel_time_in_hrs  \n",
       "79      Adulto ida            9.366667  \n",
       "80      Adulto ida            9.366667  \n",
       "81      Adulto ida            9.366667  \n",
       "82      Adulto ida            9.366667  \n",
       "83           Promo            3.150000  \n",
       "...            ...                 ...  \n",
       "215085       Promo            2.750000  \n",
       "215086       Promo            3.166667  \n",
       "215087       Promo            2.833333  \n",
       "215088       Promo            3.166667  \n",
       "215089       Promo            3.166667  \n",
       "\n",
       "[40728 rows x 8 columns]"
      ]
     },
     "execution_count": 43,
     "metadata": {},
     "output_type": "execute_result"
    }
   ],
   "source": [
    "#write code here\n",
    "df1 = df[(df.origin=='MADRID')&(df.destination=='BARCELONA')]\n",
    "df1"
   ]
  },
  {
   "cell_type": "markdown",
   "metadata": {},
   "source": [
    "#### Task 25: Make a plot for finding out travelling hours for each train type"
   ]
  },
  {
   "cell_type": "code",
   "execution_count": 44,
   "metadata": {
    "scrolled": false
   },
   "outputs": [
    {
     "data": {
      "image/png": "[encoded data removed]",
      "text/plain": [
       "<Figure size 432x288 with 1 Axes>"
      ]
     },
     "metadata": {
      "needs_background": "light"
     },
     "output_type": "display_data"
    }
   ],
   "source": [
    "#write code here\n",
    "\n",
    "sns.barplot(x=df1.train_type,y=df1.travel_time_in_hrs);"
   ]
  },
  {
   "cell_type": "markdown",
   "metadata": {},
   "source": [
    "#### **Task 26: Show train_type vs price through boxplot**"
   ]
  },
  {
   "cell_type": "code",
   "execution_count": 45,
   "metadata": {
    "scrolled": true
   },
   "outputs": [
    {
     "data": {
      "image/png": "[encoded data removed]",
      "text/plain": [
       "<Figure size 432x288 with 1 Axes>"
      ]
     },
     "metadata": {
      "needs_background": "light"
     },
     "output_type": "display_data"
    }
   ],
   "source": [
    "#write code here\n",
    "sns.boxplot(x=df1.train_type,y=df1.price);"
   ]
  },
  {
   "cell_type": "markdown",
   "metadata": {},
   "source": [
    "## **Travelling from MADRID to VALENCIA**"
   ]
  },
  {
   "cell_type": "markdown",
   "metadata": {},
   "source": [
    "#### Task 27: Findout people travelling from MADRID to VALENCIA"
   ]
  },
  {
   "cell_type": "code",
   "execution_count": 46,
   "metadata": {},
   "outputs": [
    {
     "data": {
      "text/html": [
       "<div>\n",
       "<style scoped>\n",
       "    .dataframe tbody tr th:only-of-type {\n",
       "        vertical-align: middle;\n",
       "    }\n",
       "\n",
       "    .dataframe tbody tr th {\n",
       "        vertical-align: top;\n",
       "    }\n",
       "\n",
       "    .dataframe thead th {\n",
       "        text-align: right;\n",
       "    }\n",
       "</style>\n",
       "<table border=\"1\" class=\"dataframe\">\n",
       "  <thead>\n",
       "    <tr style=\"text-align: right;\">\n",
       "      <th></th>\n",
       "      <th>index</th>\n",
       "      <th>origin</th>\n",
       "      <th>destination</th>\n",
       "      <th>train_type</th>\n",
       "      <th>price</th>\n",
       "      <th>train_class</th>\n",
       "      <th>fare</th>\n",
       "      <th>travel_time_in_hrs</th>\n",
       "    </tr>\n",
       "  </thead>\n",
       "  <tbody>\n",
       "    <tr>\n",
       "      <th>5</th>\n",
       "      <td>5</td>\n",
       "      <td>MADRID</td>\n",
       "      <td>VALENCIA</td>\n",
       "      <td>REGIONAL</td>\n",
       "      <td>28.35</td>\n",
       "      <td>Turista</td>\n",
       "      <td>Adulto ida</td>\n",
       "      <td>6.783333</td>\n",
       "    </tr>\n",
       "    <tr>\n",
       "      <th>6</th>\n",
       "      <td>6</td>\n",
       "      <td>MADRID</td>\n",
       "      <td>VALENCIA</td>\n",
       "      <td>REGIONAL</td>\n",
       "      <td>28.35</td>\n",
       "      <td>Turista</td>\n",
       "      <td>Adulto ida</td>\n",
       "      <td>6.716667</td>\n",
       "    </tr>\n",
       "    <tr>\n",
       "      <th>7</th>\n",
       "      <td>7</td>\n",
       "      <td>MADRID</td>\n",
       "      <td>VALENCIA</td>\n",
       "      <td>REGIONAL</td>\n",
       "      <td>28.35</td>\n",
       "      <td>Turista</td>\n",
       "      <td>Adulto ida</td>\n",
       "      <td>6.700000</td>\n",
       "    </tr>\n",
       "    <tr>\n",
       "      <th>8</th>\n",
       "      <td>8</td>\n",
       "      <td>MADRID</td>\n",
       "      <td>VALENCIA</td>\n",
       "      <td>REGIONAL</td>\n",
       "      <td>28.35</td>\n",
       "      <td>Turista</td>\n",
       "      <td>Adulto ida</td>\n",
       "      <td>6.583333</td>\n",
       "    </tr>\n",
       "    <tr>\n",
       "      <th>9</th>\n",
       "      <td>9</td>\n",
       "      <td>MADRID</td>\n",
       "      <td>VALENCIA</td>\n",
       "      <td>REGIONAL</td>\n",
       "      <td>28.35</td>\n",
       "      <td>Turista</td>\n",
       "      <td>Adulto ida</td>\n",
       "      <td>6.366667</td>\n",
       "    </tr>\n",
       "  </tbody>\n",
       "</table>\n",
       "</div>"
      ],
      "text/plain": [
       "   index  origin destination train_type  price train_class        fare  \\\n",
       "5      5  MADRID    VALENCIA   REGIONAL  28.35     Turista  Adulto ida   \n",
       "6      6  MADRID    VALENCIA   REGIONAL  28.35     Turista  Adulto ida   \n",
       "7      7  MADRID    VALENCIA   REGIONAL  28.35     Turista  Adulto ida   \n",
       "8      8  MADRID    VALENCIA   REGIONAL  28.35     Turista  Adulto ida   \n",
       "9      9  MADRID    VALENCIA   REGIONAL  28.35     Turista  Adulto ida   \n",
       "\n",
       "   travel_time_in_hrs  \n",
       "5            6.783333  \n",
       "6            6.716667  \n",
       "7            6.700000  \n",
       "8            6.583333  \n",
       "9            6.366667  "
      ]
     },
     "execution_count": 46,
     "metadata": {},
     "output_type": "execute_result"
    }
   ],
   "source": [
    "#write code here\n",
    "df1 = df[(df.origin=='MADRID')&(df.destination=='VALENCIA')]\n",
    "df1.head()"
   ]
  },
  {
   "cell_type": "markdown",
   "metadata": {},
   "source": [
    "#### Task 28: Make a plot for finding out travelling hours for each train type"
   ]
  },
  {
   "cell_type": "code",
   "execution_count": 47,
   "metadata": {
    "scrolled": true
   },
   "outputs": [
    {
     "data": {
      "image/png": "[encoded data removed]",
      "text/plain": [
       "<Figure size 432x288 with 1 Axes>"
      ]
     },
     "metadata": {
      "needs_background": "light"
     },
     "output_type": "display_data"
    }
   ],
   "source": [
    "#write code here\n",
    "sns.barplot(x=df1.train_type,y=df1.travel_time_in_hrs);"
   ]
  },
  {
   "cell_type": "markdown",
   "metadata": {},
   "source": [
    "#### **Task 29: Show train_type vs price through boxplot**"
   ]
  },
  {
   "cell_type": "code",
   "execution_count": 48,
   "metadata": {
    "scrolled": true
   },
   "outputs": [
    {
     "data": {
      "image/png": "[encoded data removed]",
      "text/plain": [
       "<Figure size 432x288 with 1 Axes>"
      ]
     },
     "metadata": {
      "needs_background": "light"
     },
     "output_type": "display_data"
    }
   ],
   "source": [
    "#write code here\n",
    "\n",
    "sns.boxplot(x=df1.train_type,y=df1.price);\n"
   ]
  },
  {
   "cell_type": "markdown",
   "metadata": {},
   "source": [
    "## **Travelling from MADRID to PONFERRADA**"
   ]
  },
  {
   "cell_type": "markdown",
   "metadata": {},
   "source": [
    "#### Task 30: Findout people travelling from MADRID to PONFERRADA"
   ]
  },
  {
   "cell_type": "code",
   "execution_count": 49,
   "metadata": {},
   "outputs": [
    {
     "data": {
      "text/html": [
       "<div>\n",
       "<style scoped>\n",
       "    .dataframe tbody tr th:only-of-type {\n",
       "        vertical-align: middle;\n",
       "    }\n",
       "\n",
       "    .dataframe tbody tr th {\n",
       "        vertical-align: top;\n",
       "    }\n",
       "\n",
       "    .dataframe thead th {\n",
       "        text-align: right;\n",
       "    }\n",
       "</style>\n",
       "<table border=\"1\" class=\"dataframe\">\n",
       "  <thead>\n",
       "    <tr style=\"text-align: right;\">\n",
       "      <th></th>\n",
       "      <th>index</th>\n",
       "      <th>origin</th>\n",
       "      <th>destination</th>\n",
       "      <th>train_type</th>\n",
       "      <th>price</th>\n",
       "      <th>train_class</th>\n",
       "      <th>fare</th>\n",
       "      <th>travel_time_in_hrs</th>\n",
       "    </tr>\n",
       "  </thead>\n",
       "  <tbody>\n",
       "    <tr>\n",
       "      <th>233</th>\n",
       "      <td>233</td>\n",
       "      <td>MADRID</td>\n",
       "      <td>PONFERRADA</td>\n",
       "      <td>AVE-MD</td>\n",
       "      <td>35.75</td>\n",
       "      <td>Turista con enlace</td>\n",
       "      <td>Promo</td>\n",
       "      <td>3.883333</td>\n",
       "    </tr>\n",
       "    <tr>\n",
       "      <th>234</th>\n",
       "      <td>234</td>\n",
       "      <td>MADRID</td>\n",
       "      <td>PONFERRADA</td>\n",
       "      <td>AVE-LD</td>\n",
       "      <td>31.20</td>\n",
       "      <td>Turista con enlace</td>\n",
       "      <td>Promo</td>\n",
       "      <td>4.200000</td>\n",
       "    </tr>\n",
       "    <tr>\n",
       "      <th>235</th>\n",
       "      <td>235</td>\n",
       "      <td>MADRID</td>\n",
       "      <td>PONFERRADA</td>\n",
       "      <td>ALVIA</td>\n",
       "      <td>33.50</td>\n",
       "      <td>Turista</td>\n",
       "      <td>Promo</td>\n",
       "      <td>4.050000</td>\n",
       "    </tr>\n",
       "    <tr>\n",
       "      <th>236</th>\n",
       "      <td>236</td>\n",
       "      <td>MADRID</td>\n",
       "      <td>PONFERRADA</td>\n",
       "      <td>LD-MD</td>\n",
       "      <td>34.35</td>\n",
       "      <td>Turista con enlace</td>\n",
       "      <td>Promo +</td>\n",
       "      <td>6.533333</td>\n",
       "    </tr>\n",
       "    <tr>\n",
       "      <th>237</th>\n",
       "      <td>237</td>\n",
       "      <td>MADRID</td>\n",
       "      <td>PONFERRADA</td>\n",
       "      <td>LD</td>\n",
       "      <td>42.75</td>\n",
       "      <td>Turista con enlace</td>\n",
       "      <td>Promo +</td>\n",
       "      <td>4.200000</td>\n",
       "    </tr>\n",
       "  </tbody>\n",
       "</table>\n",
       "</div>"
      ],
      "text/plain": [
       "     index  origin destination train_type  price         train_class     fare  \\\n",
       "233    233  MADRID  PONFERRADA     AVE-MD  35.75  Turista con enlace    Promo   \n",
       "234    234  MADRID  PONFERRADA     AVE-LD  31.20  Turista con enlace    Promo   \n",
       "235    235  MADRID  PONFERRADA      ALVIA  33.50             Turista    Promo   \n",
       "236    236  MADRID  PONFERRADA      LD-MD  34.35  Turista con enlace  Promo +   \n",
       "237    237  MADRID  PONFERRADA         LD  42.75  Turista con enlace  Promo +   \n",
       "\n",
       "     travel_time_in_hrs  \n",
       "233            3.883333  \n",
       "234            4.200000  \n",
       "235            4.050000  \n",
       "236            6.533333  \n",
       "237            4.200000  "
      ]
     },
     "execution_count": 49,
     "metadata": {},
     "output_type": "execute_result"
    }
   ],
   "source": [
    "#write code here\n",
    "df1 = df[(df.origin=='MADRID')&(df.destination=='PONFERRADA')]\n",
    "df1.head()"
   ]
  },
  {
   "cell_type": "markdown",
   "metadata": {},
   "source": [
    "#### Task 31: Make a plot for finding out travelling hours for each train type"
   ]
  },
  {
   "cell_type": "code",
   "execution_count": 50,
   "metadata": {},
   "outputs": [
    {
     "data": {
      "text/plain": [
       "train_type\n",
       "ALVIA        4.050000\n",
       "AVE-LD       4.200000\n",
       "AVE-MD       3.883333\n",
       "LD           4.200000\n",
       "LD-MD        5.028019\n",
       "MD-LD        6.433333\n",
       "TRENHOTEL    6.283333\n",
       "Name: travel_time_in_hrs, dtype: float64"
      ]
     },
     "execution_count": 50,
     "metadata": {},
     "output_type": "execute_result"
    }
   ],
   "source": [
    "df1.groupby('train_type')['travel_time_in_hrs'].mean()"
   ]
  },
  {
   "cell_type": "code",
   "execution_count": 51,
   "metadata": {},
   "outputs": [
    {
     "data": {
      "image/png": "[encoded data removed]",
      "text/plain": [
       "<Figure size 432x288 with 1 Axes>"
      ]
     },
     "metadata": {
      "needs_background": "light"
     },
     "output_type": "display_data"
    }
   ],
   "source": [
    "sns.barplot(x=df1.train_type,y=df1.travel_time_in_hrs);"
   ]
  },
  {
   "cell_type": "markdown",
   "metadata": {},
   "source": [
    "#### **Task 32: Show train_type vs price through boxplot**"
   ]
  },
  {
   "cell_type": "code",
   "execution_count": 52,
   "metadata": {
    "scrolled": true
   },
   "outputs": [
    {
     "data": {
      "image/png": "[encoded data removed]",
      "text/plain": [
       "<Figure size 432x288 with 1 Axes>"
      ]
     },
     "metadata": {
      "needs_background": "light"
     },
     "output_type": "display_data"
    }
   ],
   "source": [
    "#write code here\n",
    "sns.boxplot(x=df1.train_type,y=df1.price);"
   ]
  },
  {
   "cell_type": "markdown",
   "metadata": {},
   "source": [
    "# Applying Linear  Regression"
   ]
  },
  {
   "cell_type": "markdown",
   "metadata": {},
   "source": [
    "#### Task 33: Import LabelEncoder library from sklearn "
   ]
  },
  {
   "cell_type": "code",
   "execution_count": 53,
   "metadata": {},
   "outputs": [],
   "source": [
    "#write code here\n",
    "from sklearn.preprocessing import LabelEncoder"
   ]
  },
  {
   "cell_type": "markdown",
   "metadata": {},
   "source": [
    "**Data Encoding**"
   ]
  },
  {
   "cell_type": "code",
   "execution_count": 54,
   "metadata": {},
   "outputs": [],
   "source": [
    "### Creating new dataframe just to know which value is assign to given data after encoding\n",
    "df_Encode=df.copy()\n",
    "lab_en = LabelEncoder()\n",
    "df_Encode['origin_Encode'] = lab_en.fit_transform(df_Encode.origin)\n",
    "df_Encode['destination_Encode'] = lab_en.fit_transform(df_Encode.destination)\n",
    "df_Encode['train_type_Encode'] = lab_en.fit_transform(df_Encode.train_type)\n",
    "df_Encode['train_class_Encode'] = lab_en.fit_transform(df_Encode.train_class)\n",
    "df_Encode['fare_Encode'] = lab_en.fit_transform(df_Encode.fare)\n"
   ]
  },
  {
   "cell_type": "code",
   "execution_count": 55,
   "metadata": {},
   "outputs": [
    {
     "data": {
      "text/plain": [
       "{'Flexible': 1, 'Promo +': 4, 'Promo': 3, 'Adulto ida': 0, 'Mesa': 2}"
      ]
     },
     "execution_count": 55,
     "metadata": {},
     "output_type": "execute_result"
    }
   ],
   "source": [
    "dict(zip(df_Encode.fare,df_Encode.fare_Encode))"
   ]
  },
  {
   "cell_type": "markdown",
   "metadata": {},
   "source": [
    "**Train_type & Encoded values**\n",
    "```{'MD-AVE': 11,\n",
    " 'MD-LD': 12,\n",
    " 'ALVIA': 0,\n",
    " 'REGIONAL': 14,\n",
    " 'AVE': 2,\n",
    " 'INTERCITY': 6,\n",
    " 'AVE-MD': 4,\n",
    " 'AVE-LD': 3,\n",
    " 'R. EXPRES': 13,\n",
    " 'AVE-TGV': 5,\n",
    " 'AV City': 1,\n",
    " 'MD': 10,\n",
    " 'LD-MD': 9,\n",
    " 'LD': 7,\n",
    " 'LD-AVE': 8,\n",
    " 'TRENHOTEL': 15}```\n",
    " \n",
    " **Orgin|Destination Encoded values**\n",
    "```{'PONFERRADA': 2, 'MADRID': 1, 'SEVILLA': 3, 'VALENCIA': 4, 'BARCELONA': 0}```\n",
    "\n",
    "**TrainClass and Encoded Value**\n",
    "```{'Turista con enlace': 4,\n",
    " 'Turista': 2,\n",
    " 'Preferente': 1,\n",
    " 'Turista Plus': 3,\n",
    " 'Cama Turista': 0}```\n",
    "**Fare Encoded Values**\n",
    "```{'Flexible': 1, 'Promo +': 4, 'Promo': 3, 'Adulto ida': 0, 'Mesa': 2}```"
   ]
  },
  {
   "cell_type": "code",
   "execution_count": 56,
   "metadata": {},
   "outputs": [],
   "source": [
    "lab_en = LabelEncoder()\n",
    "df.iloc[:,1] = lab_en.fit_transform(df.iloc[:,1])\n",
    "df.iloc[:,2] = lab_en.fit_transform(df.iloc[:,2])\n",
    "df.iloc[:,3] = lab_en.fit_transform(df.iloc[:,3])\n",
    "df.iloc[:,5] = lab_en.fit_transform(df.iloc[:,5])\n",
    "df.iloc[:,6] = lab_en.fit_transform(df.iloc[:,6])"
   ]
  },
  {
   "cell_type": "code",
   "execution_count": 57,
   "metadata": {},
   "outputs": [
    {
     "data": {
      "text/html": [
       "<div>\n",
       "<style scoped>\n",
       "    .dataframe tbody tr th:only-of-type {\n",
       "        vertical-align: middle;\n",
       "    }\n",
       "\n",
       "    .dataframe tbody tr th {\n",
       "        vertical-align: top;\n",
       "    }\n",
       "\n",
       "    .dataframe thead th {\n",
       "        text-align: right;\n",
       "    }\n",
       "</style>\n",
       "<table border=\"1\" class=\"dataframe\">\n",
       "  <thead>\n",
       "    <tr style=\"text-align: right;\">\n",
       "      <th></th>\n",
       "      <th>origin_Encode</th>\n",
       "      <th>destination_Encode</th>\n",
       "      <th>train_type_Encode</th>\n",
       "      <th>train_class_Encode</th>\n",
       "      <th>fare_Encode</th>\n",
       "    </tr>\n",
       "  </thead>\n",
       "  <tbody>\n",
       "    <tr>\n",
       "      <th>0</th>\n",
       "      <td>2</td>\n",
       "      <td>1</td>\n",
       "      <td>11</td>\n",
       "      <td>4</td>\n",
       "      <td>1</td>\n",
       "    </tr>\n",
       "    <tr>\n",
       "      <th>1</th>\n",
       "      <td>2</td>\n",
       "      <td>1</td>\n",
       "      <td>11</td>\n",
       "      <td>4</td>\n",
       "      <td>4</td>\n",
       "    </tr>\n",
       "    <tr>\n",
       "      <th>2</th>\n",
       "      <td>2</td>\n",
       "      <td>1</td>\n",
       "      <td>12</td>\n",
       "      <td>4</td>\n",
       "      <td>4</td>\n",
       "    </tr>\n",
       "    <tr>\n",
       "      <th>3</th>\n",
       "      <td>2</td>\n",
       "      <td>1</td>\n",
       "      <td>11</td>\n",
       "      <td>4</td>\n",
       "      <td>4</td>\n",
       "    </tr>\n",
       "    <tr>\n",
       "      <th>4</th>\n",
       "      <td>2</td>\n",
       "      <td>1</td>\n",
       "      <td>0</td>\n",
       "      <td>2</td>\n",
       "      <td>3</td>\n",
       "    </tr>\n",
       "  </tbody>\n",
       "</table>\n",
       "</div>"
      ],
      "text/plain": [
       "   origin_Encode  destination_Encode  train_type_Encode  train_class_Encode  \\\n",
       "0              2                   1                 11                   4   \n",
       "1              2                   1                 11                   4   \n",
       "2              2                   1                 12                   4   \n",
       "3              2                   1                 11                   4   \n",
       "4              2                   1                  0                   2   \n",
       "\n",
       "   fare_Encode  \n",
       "0            1  \n",
       "1            4  \n",
       "2            4  \n",
       "3            4  \n",
       "4            3  "
      ]
     },
     "execution_count": 57,
     "metadata": {},
     "output_type": "execute_result"
    }
   ],
   "source": [
    "df_Encode.loc[0:4,'origin_Encode':'fare_Encode']"
   ]
  },
  {
   "cell_type": "code",
   "execution_count": 58,
   "metadata": {},
   "outputs": [
    {
     "data": {
      "text/html": [
       "<div>\n",
       "<style scoped>\n",
       "    .dataframe tbody tr th:only-of-type {\n",
       "        vertical-align: middle;\n",
       "    }\n",
       "\n",
       "    .dataframe tbody tr th {\n",
       "        vertical-align: top;\n",
       "    }\n",
       "\n",
       "    .dataframe thead th {\n",
       "        text-align: right;\n",
       "    }\n",
       "</style>\n",
       "<table border=\"1\" class=\"dataframe\">\n",
       "  <thead>\n",
       "    <tr style=\"text-align: right;\">\n",
       "      <th></th>\n",
       "      <th>index</th>\n",
       "      <th>origin</th>\n",
       "      <th>destination</th>\n",
       "      <th>train_type</th>\n",
       "      <th>price</th>\n",
       "      <th>train_class</th>\n",
       "      <th>fare</th>\n",
       "      <th>travel_time_in_hrs</th>\n",
       "    </tr>\n",
       "  </thead>\n",
       "  <tbody>\n",
       "    <tr>\n",
       "      <th>0</th>\n",
       "      <td>0</td>\n",
       "      <td>2</td>\n",
       "      <td>1</td>\n",
       "      <td>11</td>\n",
       "      <td>59.50</td>\n",
       "      <td>4</td>\n",
       "      <td>1</td>\n",
       "      <td>4.700000</td>\n",
       "    </tr>\n",
       "    <tr>\n",
       "      <th>1</th>\n",
       "      <td>1</td>\n",
       "      <td>2</td>\n",
       "      <td>1</td>\n",
       "      <td>11</td>\n",
       "      <td>34.65</td>\n",
       "      <td>4</td>\n",
       "      <td>4</td>\n",
       "      <td>5.800000</td>\n",
       "    </tr>\n",
       "    <tr>\n",
       "      <th>2</th>\n",
       "      <td>2</td>\n",
       "      <td>2</td>\n",
       "      <td>1</td>\n",
       "      <td>12</td>\n",
       "      <td>39.95</td>\n",
       "      <td>4</td>\n",
       "      <td>4</td>\n",
       "      <td>5.916667</td>\n",
       "    </tr>\n",
       "    <tr>\n",
       "      <th>3</th>\n",
       "      <td>3</td>\n",
       "      <td>2</td>\n",
       "      <td>1</td>\n",
       "      <td>11</td>\n",
       "      <td>40.60</td>\n",
       "      <td>4</td>\n",
       "      <td>4</td>\n",
       "      <td>4.983333</td>\n",
       "    </tr>\n",
       "    <tr>\n",
       "      <th>4</th>\n",
       "      <td>4</td>\n",
       "      <td>2</td>\n",
       "      <td>1</td>\n",
       "      <td>0</td>\n",
       "      <td>27.90</td>\n",
       "      <td>2</td>\n",
       "      <td>3</td>\n",
       "      <td>4.133333</td>\n",
       "    </tr>\n",
       "  </tbody>\n",
       "</table>\n",
       "</div>"
      ],
      "text/plain": [
       "   index  origin  destination  train_type  price  train_class  fare  \\\n",
       "0      0       2            1          11  59.50            4     1   \n",
       "1      1       2            1          11  34.65            4     4   \n",
       "2      2       2            1          12  39.95            4     4   \n",
       "3      3       2            1          11  40.60            4     4   \n",
       "4      4       2            1           0  27.90            2     3   \n",
       "\n",
       "   travel_time_in_hrs  \n",
       "0            4.700000  \n",
       "1            5.800000  \n",
       "2            5.916667  \n",
       "3            4.983333  \n",
       "4            4.133333  "
      ]
     },
     "execution_count": 58,
     "metadata": {},
     "output_type": "execute_result"
    }
   ],
   "source": [
    "df.head()"
   ]
  },
  {
   "cell_type": "markdown",
   "metadata": {},
   "source": [
    "#### Task 34: Separate the dependant and independant variables"
   ]
  },
  {
   "cell_type": "code",
   "execution_count": 59,
   "metadata": {},
   "outputs": [],
   "source": [
    "#write code here\n",
    "X = df.drop(['index','price'],axis=1)\n",
    "Y = df[['price']]"
   ]
  },
  {
   "cell_type": "markdown",
   "metadata": {},
   "source": [
    "#### Task 35: Import test_train_split from sklearn"
   ]
  },
  {
   "cell_type": "code",
   "execution_count": 60,
   "metadata": {},
   "outputs": [],
   "source": [
    "#write code here\n",
    "from sklearn.model_selection import train_test_split"
   ]
  },
  {
   "cell_type": "markdown",
   "metadata": {},
   "source": [
    "#### Task 36:**Split the data into training and test set**"
   ]
  },
  {
   "cell_type": "code",
   "execution_count": 61,
   "metadata": {},
   "outputs": [],
   "source": [
    "#write code here\n",
    "X_train,X_test,Y_train,Y_test = train_test_split(X,Y,test_size=0.3,random_state=100,shuffle=True)\n"
   ]
  },
  {
   "cell_type": "markdown",
   "metadata": {},
   "source": [
    "#### Task 37: Import LinearRegression library from sklearn"
   ]
  },
  {
   "cell_type": "code",
   "execution_count": 62,
   "metadata": {},
   "outputs": [],
   "source": [
    "#write code here\n",
    "from sklearn.linear_model import LinearRegression"
   ]
  },
  {
   "cell_type": "markdown",
   "metadata": {},
   "source": [
    "#### Task 38: Make an object of LinearRegression( ) and train it using the training data set"
   ]
  },
  {
   "cell_type": "code",
   "execution_count": 63,
   "metadata": {},
   "outputs": [],
   "source": [
    "#write code here\n",
    "lr = LinearRegression()"
   ]
  },
  {
   "cell_type": "code",
   "execution_count": 64,
   "metadata": {},
   "outputs": [
    {
     "data": {
      "text/plain": [
       "LinearRegression()"
      ]
     },
     "execution_count": 64,
     "metadata": {},
     "output_type": "execute_result"
    }
   ],
   "source": [
    "#write code here\n",
    "lr.fit(X_train,Y_train)"
   ]
  },
  {
   "cell_type": "markdown",
   "metadata": {},
   "source": [
    "#### Task 39: Find out the predictions using test data set."
   ]
  },
  {
   "cell_type": "code",
   "execution_count": 65,
   "metadata": {},
   "outputs": [],
   "source": [
    "#write code here\n",
    "lr_predict_test = lr.predict(X_test)"
   ]
  },
  {
   "cell_type": "markdown",
   "metadata": {},
   "source": [
    "#### Task 40: Find out the predictions using training data set."
   ]
  },
  {
   "cell_type": "code",
   "execution_count": 66,
   "metadata": {},
   "outputs": [],
   "source": [
    "#write code here\n",
    "lr_predict_train = lr.predict(X_train)"
   ]
  },
  {
   "cell_type": "markdown",
   "metadata": {},
   "source": [
    "#### Task 41: Import r2_score library form sklearn"
   ]
  },
  {
   "cell_type": "code",
   "execution_count": 67,
   "metadata": {},
   "outputs": [],
   "source": [
    "#write code here\n",
    "from sklearn.metrics import r2_score"
   ]
  },
  {
   "cell_type": "markdown",
   "metadata": {},
   "source": [
    "#### Task 42: Find out the R2 Score for test data and print it."
   ]
  },
  {
   "cell_type": "code",
   "execution_count": 68,
   "metadata": {},
   "outputs": [
    {
     "name": "stdout",
     "output_type": "stream",
     "text": [
      "0.7355193856894681\n"
     ]
    }
   ],
   "source": [
    "#write code here\n",
    "lr_r2_test= r2_score(Y_test,lr_predict_test)\n",
    "print(lr_r2_test)"
   ]
  },
  {
   "cell_type": "markdown",
   "metadata": {},
   "source": [
    "#### Task 43: Find out the R2 Score for training data and print it."
   ]
  },
  {
   "cell_type": "code",
   "execution_count": 69,
   "metadata": {},
   "outputs": [
    {
     "name": "stdout",
     "output_type": "stream",
     "text": [
      "0.7390796729863218\n"
     ]
    }
   ],
   "source": [
    "lr_r2_train = r2_score(Y_train,lr_predict_train)\n",
    "print(lr_r2_train)"
   ]
  },
  {
   "cell_type": "markdown",
   "metadata": {},
   "source": [
    "Comaparing training and testing R2 scores"
   ]
  },
  {
   "cell_type": "code",
   "execution_count": 70,
   "metadata": {},
   "outputs": [
    {
     "name": "stdout",
     "output_type": "stream",
     "text": [
      "R2 score for Linear Regression Training Data is:  0.7390796729863218\n",
      "R2 score for Linear Regression Testing Data is:  0.7355193856894681\n"
     ]
    }
   ],
   "source": [
    "print('R2 score for Linear Regression Training Data is: ', lr_r2_train)\n",
    "print('R2 score for Linear Regression Testing Data is: ', lr_r2_test)"
   ]
  },
  {
   "cell_type": "markdown",
   "metadata": {},
   "source": [
    "#### Absolute and Squared Error"
   ]
  },
  {
   "cell_type": "code",
   "execution_count": 71,
   "metadata": {},
   "outputs": [],
   "source": [
    "from sklearn.metrics import mean_absolute_error\n",
    "from sklearn.metrics import mean_squared_error"
   ]
  },
  {
   "cell_type": "code",
   "execution_count": 72,
   "metadata": {},
   "outputs": [
    {
     "name": "stdout",
     "output_type": "stream",
     "text": [
      "Mean Absolute Error of Training 8.787897584853635\n",
      "Mean Absolute Error of Testing 8.84604438351786\n"
     ]
    }
   ],
   "source": [
    "print('Mean Absolute Error of Training',mean_absolute_error(Y_train,lr_predict_train))\n",
    "print('Mean Absolute Error of Testing',mean_absolute_error(Y_test,lr_predict_test))"
   ]
  },
  {
   "cell_type": "code",
   "execution_count": 73,
   "metadata": {},
   "outputs": [
    {
     "name": "stdout",
     "output_type": "stream",
     "text": [
      "Mean Square Error of Training 163.60742498303134\n",
      "Mean Square Error of Testing 167.13049757085602\n"
     ]
    }
   ],
   "source": [
    "print('Mean Square Error of Training',mean_squared_error(Y_train,lr_predict_train))\n",
    "print('Mean Square Error of Testing',mean_squared_error(Y_test,lr_predict_test))"
   ]
  },
  {
   "cell_type": "code",
   "execution_count": 74,
   "metadata": {},
   "outputs": [],
   "source": [
    "from yellowbrick.regressor import ResidualsPlot"
   ]
  },
  {
   "cell_type": "code",
   "execution_count": 75,
   "metadata": {},
   "outputs": [
    {
     "name": "stderr",
     "output_type": "stream",
     "text": [
      "C:\\Users\\lenovo\\anaconda3\\lib\\site-packages\\sklearn\\base.py:450: UserWarning: X does not have valid feature names, but LinearRegression was fitted with feature names\n",
      "  warnings.warn(\n",
      "C:\\Users\\lenovo\\anaconda3\\lib\\site-packages\\sklearn\\base.py:450: UserWarning: X does not have valid feature names, but LinearRegression was fitted with feature names\n",
      "  warnings.warn(\n",
      "C:\\Users\\lenovo\\anaconda3\\lib\\site-packages\\sklearn\\base.py:450: UserWarning: X does not have valid feature names, but LinearRegression was fitted with feature names\n",
      "  warnings.warn(\n",
      "C:\\Users\\lenovo\\anaconda3\\lib\\site-packages\\sklearn\\base.py:450: UserWarning: X does not have valid feature names, but LinearRegression was fitted with feature names\n",
      "  warnings.warn(\n",
      "C:\\Users\\lenovo\\anaconda3\\lib\\site-packages\\sklearn\\base.py:450: UserWarning: X does not have valid feature names, but LinearRegression was fitted with feature names\n",
      "  warnings.warn(\n"
     ]
    },
    {
     "data": {
      "image/png": "[encoded data removed]",
      "text/plain": [
       "<Figure size 1440x720 with 2 Axes>"
      ]
     },
     "metadata": {},
     "output_type": "display_data"
    },
    {
     "data": {
      "text/plain": [
       "<AxesSubplot:title={'center':'Residuals for LinearRegression Model'}, xlabel='Predicted Value', ylabel='Residuals'>"
      ]
     },
     "execution_count": 75,
     "metadata": {},
     "output_type": "execute_result"
    }
   ],
   "source": [
    "plt.figure(figsize=(20,10)) \n",
    "visualizer=ResidualsPlot(lr,hist=True)\n",
    "visualizer.fit(X_train.values,Y_train.values)\n",
    "visualizer.score(X_test.values,Y_test.values)\n",
    "visualizer.poof()"
   ]
  },
  {
   "cell_type": "markdown",
   "metadata": {},
   "source": [
    "# Applying Polynomial Regression"
   ]
  },
  {
   "cell_type": "markdown",
   "metadata": {},
   "source": [
    "#### Task 44: Import PolynomialFeatures from sklearn"
   ]
  },
  {
   "cell_type": "code",
   "execution_count": 76,
   "metadata": {},
   "outputs": [],
   "source": [
    "#write code here\n",
    "from sklearn.preprocessing import PolynomialFeatures"
   ]
  },
  {
   "cell_type": "markdown",
   "metadata": {},
   "source": [
    "#### Task 45: Make and object of default Polynomial Features"
   ]
  },
  {
   "cell_type": "code",
   "execution_count": 77,
   "metadata": {},
   "outputs": [],
   "source": [
    "#write code here\n",
    "poly_reg = PolynomialFeatures(degree=2)"
   ]
  },
  {
   "cell_type": "markdown",
   "metadata": {},
   "source": [
    "#### Task 46: Transform the features to higher degree features."
   ]
  },
  {
   "cell_type": "code",
   "execution_count": 78,
   "metadata": {},
   "outputs": [
    {
     "data": {
      "text/plain": [
       "(150686, 28)"
      ]
     },
     "execution_count": 78,
     "metadata": {},
     "output_type": "execute_result"
    }
   ],
   "source": [
    "#write code here\n",
    "X_train_poly=poly_reg.fit_transform(X_train)\n",
    "X_train_poly.shape"
   ]
  },
  {
   "cell_type": "code",
   "execution_count": 79,
   "metadata": {},
   "outputs": [
    {
     "data": {
      "text/plain": [
       "(64580, 28)"
      ]
     },
     "execution_count": 79,
     "metadata": {},
     "output_type": "execute_result"
    }
   ],
   "source": [
    "X_test_poly=poly_reg.fit_transform(X_test)\n",
    "X_test_poly.shape"
   ]
  },
  {
   "cell_type": "markdown",
   "metadata": {},
   "source": [
    "#### Task 47: Fit the transformed features to Linear Regression"
   ]
  },
  {
   "cell_type": "code",
   "execution_count": 80,
   "metadata": {},
   "outputs": [],
   "source": [
    "#write code here\n",
    "poly_model = LinearRegression().fit(X_train_poly,Y_train)"
   ]
  },
  {
   "cell_type": "markdown",
   "metadata": {},
   "source": [
    "#### Task 48: Find the predictions on the data set"
   ]
  },
  {
   "cell_type": "code",
   "execution_count": 81,
   "metadata": {},
   "outputs": [],
   "source": [
    "#write code here\n",
    "y_train_predicted=poly_model.predict(X_train_poly)"
   ]
  },
  {
   "cell_type": "code",
   "execution_count": 82,
   "metadata": {},
   "outputs": [],
   "source": [
    "y_test_predicted=poly_model.predict(X_test_poly)"
   ]
  },
  {
   "cell_type": "markdown",
   "metadata": {},
   "source": [
    "#### Task 49: Evaluate R2 score for training data set"
   ]
  },
  {
   "cell_type": "code",
   "execution_count": 83,
   "metadata": {},
   "outputs": [],
   "source": [
    "#evaluating the model on training dataset\n",
    "#write code here\n",
    "r2_train =r2_score(Y_train,y_train_predicted)"
   ]
  },
  {
   "cell_type": "markdown",
   "metadata": {},
   "source": [
    "#### Task 50: Evaluate R2 score for test data set"
   ]
  },
  {
   "cell_type": "code",
   "execution_count": 84,
   "metadata": {},
   "outputs": [],
   "source": [
    "# evaluating the model on test dataset\n",
    "#write code here\n",
    "r2_test = r2_score(Y_test,y_test_predicted)"
   ]
  },
  {
   "cell_type": "markdown",
   "metadata": {},
   "source": [
    "Comaparing training and testing R2 scores"
   ]
  },
  {
   "cell_type": "code",
   "execution_count": 85,
   "metadata": {
    "scrolled": true
   },
   "outputs": [
    {
     "name": "stdout",
     "output_type": "stream",
     "text": [
      "The r2 score for training set is:  0.8396957356429526\n",
      "The r2 score for testing set is:  0.8382307385757944\n"
     ]
    }
   ],
   "source": [
    "#write code here\n",
    "print ('The r2 score for training set is: ',r2_train)\n",
    "print ('The r2 score for testing set is: ',r2_test)"
   ]
  },
  {
   "cell_type": "markdown",
   "metadata": {},
   "source": [
    "#### Task 51: Select the best model"
   ]
  },
  {
   "cell_type": "markdown",
   "metadata": {},
   "source": [
    "**Question: Which model gives the best result for price prediction? Find out the complexity using R2 score and give your answer.**<br>\n",
    "*Hint: Use for loop for finding the best degree and model complexity for polynomial regression model*"
   ]
  },
  {
   "cell_type": "code",
   "execution_count": 86,
   "metadata": {},
   "outputs": [
    {
     "name": "stdout",
     "output_type": "stream",
     "text": [
      "R2 Train [0.7390796729863218, 0.8396957356429526, 0.8674032867653814, 0.8829398430211914, 0.8881552996960944]\n",
      "R2 Test [0.7355193856894678, 0.8382307385757944, 0.8686903188366883, 0.8842596262514417, 0.8894287879666745]\n"
     ]
    }
   ],
   "source": [
    "#write code here\n",
    "r2_train=[]\n",
    "r2_test=[]\n",
    "for i in range(1,6):\n",
    "    poly_reg = PolynomialFeatures(degree=i)\n",
    "    \n",
    "    X_tr_poly=poly_reg.fit_transform(X_train)\n",
    "    X_tst_poly = poly_reg.fit_transform(X_test)\n",
    "    poly = LinearRegression()\n",
    "    poly.fit(X_tr_poly, Y_train)\n",
    "   \n",
    "    y_tr_predicted=poly.predict(X_tr_poly)\n",
    "    y_tst_predict = poly.predict(X_tst_poly)\n",
    "    r2_train.append(r2_score(Y_train, y_tr_predicted))\n",
    "    r2_test.append(r2_score(Y_test, y_tst_predict))\n",
    "    \n",
    "print ('R2 Train', r2_train)\n",
    "print ('R2 Test', r2_test)"
   ]
  },
  {
   "cell_type": "markdown",
   "metadata": {},
   "source": [
    "#### Plotting the model"
   ]
  },
  {
   "cell_type": "code",
   "execution_count": 87,
   "metadata": {},
   "outputs": [
    {
     "data": {
      "image/png": "[encoded data removed]",
      "text/plain": [
       "<Figure size 1296x360 with 2 Axes>"
      ]
     },
     "metadata": {},
     "output_type": "display_data"
    }
   ],
   "source": [
    "plt.figure(figsize=(18,5))\n",
    "sns.set_context('poster')\n",
    "plt.subplot(1,2,1)\n",
    "sns.lineplot(x=list(range(1,6)), y=r2_train, label='Training');\n",
    "plt.subplot(1,2,2)\n",
    "sns.lineplot(x=list(range(1,6)), y=r2_test, label='Testing');"
   ]
  },
  {
   "cell_type": "markdown",
   "metadata": {},
   "source": [
    "**Answer**"
   ]
  },
  {
   "cell_type": "markdown",
   "metadata": {},
   "source": [
    "Polynomial Regression with degree 3 gives the best score as we can see in the above results but when we increased the degree with 4 and above it started doing Overfitting."
   ]
  },
  {
   "cell_type": "markdown",
   "metadata": {},
   "source": [
    "#### Cross Validation for linear"
   ]
  },
  {
   "cell_type": "code",
   "execution_count": 88,
   "metadata": {},
   "outputs": [],
   "source": [
    "from sklearn.model_selection import cross_val_score"
   ]
  },
  {
   "cell_type": "code",
   "execution_count": 89,
   "metadata": {},
   "outputs": [
    {
     "data": {
      "text/plain": [
       "array([0.73373387, 0.74085924, 0.73765364, 0.73478593, 0.74470487,\n",
       "       0.74213541, 0.73811961, 0.73999844, 0.74104846, 0.73720156])"
      ]
     },
     "execution_count": 89,
     "metadata": {},
     "output_type": "execute_result"
    }
   ],
   "source": [
    "train_score=cross_val_score(lr,X_train,Y_train,cv=10)\n",
    "train_score"
   ]
  },
  {
   "cell_type": "code",
   "execution_count": 90,
   "metadata": {},
   "outputs": [
    {
     "name": "stdout",
     "output_type": "stream",
     "text": [
      "0.7390241033943041\n"
     ]
    }
   ],
   "source": [
    "print(train_score.mean())"
   ]
  },
  {
   "cell_type": "code",
   "execution_count": 91,
   "metadata": {},
   "outputs": [
    {
     "data": {
      "text/plain": [
       "array([0.73464719, 0.73978758, 0.73616078, 0.73759469, 0.72964951,\n",
       "       0.72686   , 0.74542102, 0.7333838 , 0.73721879, 0.73410611])"
      ]
     },
     "execution_count": 91,
     "metadata": {},
     "output_type": "execute_result"
    }
   ],
   "source": [
    "test_score=cross_val_score(lr,X_test,Y_test,cv=10)\n",
    "test_score"
   ]
  },
  {
   "cell_type": "code",
   "execution_count": 92,
   "metadata": {},
   "outputs": [
    {
     "name": "stdout",
     "output_type": "stream",
     "text": [
      "0.7354829462432353\n"
     ]
    }
   ],
   "source": [
    "print(test_score.mean())"
   ]
  },
  {
   "cell_type": "markdown",
   "metadata": {},
   "source": [
    "#### Cross Validation for Polynomial"
   ]
  },
  {
   "cell_type": "code",
   "execution_count": 93,
   "metadata": {},
   "outputs": [
    {
     "data": {
      "text/plain": [
       "array([0.84054394, 0.84207472, 0.83779238, 0.84034217, 0.83923366,\n",
       "       0.84113947, 0.83975494, 0.83579903, 0.83839949, 0.84109517])"
      ]
     },
     "execution_count": 93,
     "metadata": {},
     "output_type": "execute_result"
    }
   ],
   "source": [
    "train_poly_score=cross_val_score(poly_model,X_train_poly,Y_train,cv=10)\n",
    "train_poly_score"
   ]
  },
  {
   "cell_type": "code",
   "execution_count": 94,
   "metadata": {},
   "outputs": [
    {
     "name": "stdout",
     "output_type": "stream",
     "text": [
      "0.8396174971643097\n"
     ]
    }
   ],
   "source": [
    "print(train_poly_score.mean())"
   ]
  },
  {
   "cell_type": "code",
   "execution_count": 95,
   "metadata": {},
   "outputs": [
    {
     "data": {
      "text/plain": [
       "array([0.84106107, 0.8344599 , 0.83653213, 0.83942391, 0.83226972,\n",
       "       0.83250043, 0.84580491, 0.84471815, 0.83643896, 0.83851088])"
      ]
     },
     "execution_count": 95,
     "metadata": {},
     "output_type": "execute_result"
    }
   ],
   "source": [
    "test_poly_score=cross_val_score(poly_model,X_test_poly,Y_test,cv=10)\n",
    "test_poly_score"
   ]
  },
  {
   "cell_type": "code",
   "execution_count": 96,
   "metadata": {},
   "outputs": [
    {
     "name": "stdout",
     "output_type": "stream",
     "text": [
      "0.8381720061711698\n"
     ]
    }
   ],
   "source": [
    "print(test_poly_score.mean())"
   ]
  },
  {
   "cell_type": "markdown",
   "metadata": {},
   "source": [
    "#### Recursive feature selection"
   ]
  },
  {
   "cell_type": "code",
   "execution_count": 97,
   "metadata": {},
   "outputs": [],
   "source": [
    "from sklearn.feature_selection import RFE"
   ]
  },
  {
   "cell_type": "code",
   "execution_count": 98,
   "metadata": {},
   "outputs": [],
   "source": [
    "lrm=LinearRegression()"
   ]
  },
  {
   "cell_type": "code",
   "execution_count": 99,
   "metadata": {},
   "outputs": [
    {
     "data": {
      "text/plain": [
       "array([[59.5 ],\n",
       "       [34.65],\n",
       "       [39.95],\n",
       "       ...,\n",
       "       [47.3 ],\n",
       "       [47.3 ],\n",
       "       [52.2 ]])"
      ]
     },
     "execution_count": 99,
     "metadata": {},
     "output_type": "execute_result"
    }
   ],
   "source": [
    "Y.values"
   ]
  },
  {
   "cell_type": "code",
   "execution_count": 131,
   "metadata": {},
   "outputs": [
    {
     "data": {
      "text/plain": [
       "RFE(estimator=LinearRegression())"
      ]
     },
     "execution_count": 131,
     "metadata": {},
     "output_type": "execute_result"
    }
   ],
   "source": [
    "rfe=RFE(estimator=lrm,step=1)\n",
    "rfe.fit(X,np.hstack(Y.values))"
   ]
  },
  {
   "cell_type": "code",
   "execution_count": 132,
   "metadata": {},
   "outputs": [
    {
     "data": {
      "text/plain": [
       "array(['origin', 'destination', 'train_type', 'price', 'train_class',\n",
       "       'travel_time_in_hrs'], dtype='<U18')"
      ]
     },
     "execution_count": 132,
     "metadata": {},
     "output_type": "execute_result"
    }
   ],
   "source": [
    "import numpy as np\n",
    "columnss=['origin','destination','train_type','price','train_class','travel_time_in_hrs']\n",
    "feature_names=np.array(columnss)\n",
    "feature_names"
   ]
  },
  {
   "cell_type": "code",
   "execution_count": 133,
   "metadata": {},
   "outputs": [
    {
     "data": {
      "text/plain": [
       "array([1, 1, 3, 4, 2, 1])"
      ]
     },
     "execution_count": 133,
     "metadata": {},
     "output_type": "execute_result"
    }
   ],
   "source": [
    "rfe.ranking_"
   ]
  },
  {
   "cell_type": "code",
   "execution_count": 134,
   "metadata": {},
   "outputs": [
    {
     "data": {
      "text/plain": [
       "array([ True,  True, False, False, False,  True])"
      ]
     },
     "execution_count": 134,
     "metadata": {},
     "output_type": "execute_result"
    }
   ],
   "source": [
    "rfe.support_"
   ]
  },
  {
   "cell_type": "code",
   "execution_count": 135,
   "metadata": {},
   "outputs": [
    {
     "data": {
      "text/plain": [
       "['origin', 'destination', 'travel_time_in_hrs']"
      ]
     },
     "execution_count": 135,
     "metadata": {},
     "output_type": "execute_result"
    }
   ],
   "source": [
    "list(feature_names[rfe.support_])"
   ]
  },
  {
   "cell_type": "code",
   "execution_count": 136,
   "metadata": {},
   "outputs": [
    {
     "data": {
      "text/plain": [
       "3"
      ]
     },
     "execution_count": 136,
     "metadata": {},
     "output_type": "execute_result"
    }
   ],
   "source": [
    "rfe.n_features_"
   ]
  },
  {
   "cell_type": "code",
   "execution_count": 137,
   "metadata": {},
   "outputs": [],
   "source": [
    "Xtrain_new=X_train[list(feature_names[rfe.support_])]\n",
    "Xtest_new=X_test[list(feature_names[rfe.support_])]"
   ]
  },
  {
   "cell_type": "code",
   "execution_count": 138,
   "metadata": {},
   "outputs": [
    {
     "name": "stdout",
     "output_type": "stream",
     "text": [
      "(150686, 3)\n",
      "(64580, 3)\n"
     ]
    }
   ],
   "source": [
    "print(Xtrain_new.shape)\n",
    "print(Xtest_new.shape)"
   ]
  },
  {
   "cell_type": "code",
   "execution_count": 139,
   "metadata": {},
   "outputs": [
    {
     "data": {
      "text/plain": [
       "LinearRegression()"
      ]
     },
     "execution_count": 139,
     "metadata": {},
     "output_type": "execute_result"
    }
   ],
   "source": [
    "lm2=LinearRegression()\n",
    "lm2.fit(Xtrain_new,Y_train)"
   ]
  },
  {
   "cell_type": "code",
   "execution_count": 140,
   "metadata": {},
   "outputs": [],
   "source": [
    "predict=lm2.predict(Xtest_new)"
   ]
  },
  {
   "cell_type": "code",
   "execution_count": 141,
   "metadata": {},
   "outputs": [
    {
     "data": {
      "text/plain": [
       "0.6806850348865641"
      ]
     },
     "execution_count": 141,
     "metadata": {},
     "output_type": "execute_result"
    }
   ],
   "source": [
    "r2_score(Y_test,predict)"
   ]
  }
 ],
 "metadata": {
  "kernelspec": {
   "display_name": "Python 3 (ipykernel)",
   "language": "python",
   "name": "python3"
  },
  "language_info": {
   "codemirror_mode": {
    "name": "ipython",
    "version": 3
   },
   "file_extension": ".py",
   "mimetype": "text/x-python",
   "name": "python",
   "nbconvert_exporter": "python",
   "pygments_lexer": "ipython3",
   "version": "3.9.7"
  }
 },
 "nbformat": 4,
 "nbformat_minor": 2
}
