{
 "cells": [
  {
   "cell_type": "code",
   "execution_count": 1,
   "id": "857db17c",
   "metadata": {},
   "outputs": [],
   "source": [
    "import pandas as pd"
   ]
  },
  {
   "cell_type": "code",
   "execution_count": 2,
   "id": "82565f64",
   "metadata": {},
   "outputs": [],
   "source": [
    "df=pd.read_csv('data1.csv')"
   ]
  },
  {
   "cell_type": "code",
   "execution_count": 3,
   "id": "1c14a754",
   "metadata": {},
   "outputs": [
    {
     "data": {
      "text/html": [
       "<div>\n",
       "<style scoped>\n",
       "    .dataframe tbody tr th:only-of-type {\n",
       "        vertical-align: middle;\n",
       "    }\n",
       "\n",
       "    .dataframe tbody tr th {\n",
       "        vertical-align: top;\n",
       "    }\n",
       "\n",
       "    .dataframe thead th {\n",
       "        text-align: right;\n",
       "    }\n",
       "</style>\n",
       "<table border=\"1\" class=\"dataframe\">\n",
       "  <thead>\n",
       "    <tr style=\"text-align: right;\">\n",
       "      <th></th>\n",
       "      <th>Unnamed: 0</th>\n",
       "      <th>insert_date</th>\n",
       "      <th>origin</th>\n",
       "      <th>destination</th>\n",
       "      <th>start_date</th>\n",
       "      <th>end_date</th>\n",
       "      <th>train_type</th>\n",
       "      <th>price</th>\n",
       "      <th>train_class</th>\n",
       "      <th>fare</th>\n",
       "    </tr>\n",
       "  </thead>\n",
       "  <tbody>\n",
       "    <tr>\n",
       "      <th>0</th>\n",
       "      <td>702</td>\n",
       "      <td>2019-04-19 05:37:35</td>\n",
       "      <td>PONFERRADA</td>\n",
       "      <td>MADRID</td>\n",
       "      <td>2019-06-02 15:00:00</td>\n",
       "      <td>2019-06-02 19:42:00</td>\n",
       "      <td>MD-AVE</td>\n",
       "      <td>59.50</td>\n",
       "      <td>Turista con enlace</td>\n",
       "      <td>Flexible</td>\n",
       "    </tr>\n",
       "    <tr>\n",
       "      <th>1</th>\n",
       "      <td>703</td>\n",
       "      <td>2019-04-19 05:37:35</td>\n",
       "      <td>PONFERRADA</td>\n",
       "      <td>MADRID</td>\n",
       "      <td>2019-06-02 17:15:00</td>\n",
       "      <td>2019-06-02 23:03:00</td>\n",
       "      <td>MD-AVE</td>\n",
       "      <td>34.65</td>\n",
       "      <td>Turista con enlace</td>\n",
       "      <td>Promo +</td>\n",
       "    </tr>\n",
       "    <tr>\n",
       "      <th>2</th>\n",
       "      <td>704</td>\n",
       "      <td>2019-04-19 05:37:35</td>\n",
       "      <td>PONFERRADA</td>\n",
       "      <td>MADRID</td>\n",
       "      <td>2019-06-02 17:15:00</td>\n",
       "      <td>2019-06-02 23:10:00</td>\n",
       "      <td>MD-LD</td>\n",
       "      <td>39.95</td>\n",
       "      <td>Turista con enlace</td>\n",
       "      <td>Promo +</td>\n",
       "    </tr>\n",
       "    <tr>\n",
       "      <th>3</th>\n",
       "      <td>705</td>\n",
       "      <td>2019-04-19 05:37:35</td>\n",
       "      <td>PONFERRADA</td>\n",
       "      <td>MADRID</td>\n",
       "      <td>2019-06-02 17:15:00</td>\n",
       "      <td>2019-06-02 22:14:00</td>\n",
       "      <td>MD-AVE</td>\n",
       "      <td>40.60</td>\n",
       "      <td>Turista con enlace</td>\n",
       "      <td>Promo +</td>\n",
       "    </tr>\n",
       "    <tr>\n",
       "      <th>4</th>\n",
       "      <td>706</td>\n",
       "      <td>2019-04-19 05:37:35</td>\n",
       "      <td>PONFERRADA</td>\n",
       "      <td>MADRID</td>\n",
       "      <td>2019-06-02 18:55:00</td>\n",
       "      <td>2019-06-02 23:03:00</td>\n",
       "      <td>ALVIA</td>\n",
       "      <td>27.90</td>\n",
       "      <td>Turista</td>\n",
       "      <td>Promo</td>\n",
       "    </tr>\n",
       "  </tbody>\n",
       "</table>\n",
       "</div>"
      ],
      "text/plain": [
       "   Unnamed: 0          insert_date      origin destination  \\\n",
       "0         702  2019-04-19 05:37:35  PONFERRADA      MADRID   \n",
       "1         703  2019-04-19 05:37:35  PONFERRADA      MADRID   \n",
       "2         704  2019-04-19 05:37:35  PONFERRADA      MADRID   \n",
       "3         705  2019-04-19 05:37:35  PONFERRADA      MADRID   \n",
       "4         706  2019-04-19 05:37:35  PONFERRADA      MADRID   \n",
       "\n",
       "            start_date             end_date train_type  price  \\\n",
       "0  2019-06-02 15:00:00  2019-06-02 19:42:00     MD-AVE  59.50   \n",
       "1  2019-06-02 17:15:00  2019-06-02 23:03:00     MD-AVE  34.65   \n",
       "2  2019-06-02 17:15:00  2019-06-02 23:10:00      MD-LD  39.95   \n",
       "3  2019-06-02 17:15:00  2019-06-02 22:14:00     MD-AVE  40.60   \n",
       "4  2019-06-02 18:55:00  2019-06-02 23:03:00      ALVIA  27.90   \n",
       "\n",
       "          train_class      fare  \n",
       "0  Turista con enlace  Flexible  \n",
       "1  Turista con enlace   Promo +  \n",
       "2  Turista con enlace   Promo +  \n",
       "3  Turista con enlace   Promo +  \n",
       "4             Turista     Promo  "
      ]
     },
     "execution_count": 3,
     "metadata": {},
     "output_type": "execute_result"
    }
   ],
   "source": [
    "df.head()"
   ]
  },
  {
   "cell_type": "code",
   "execution_count": 4,
   "id": "f8ce164a",
   "metadata": {},
   "outputs": [
    {
     "data": {
      "text/plain": [
       "56.7238772050449"
      ]
     },
     "execution_count": 4,
     "metadata": {},
     "output_type": "execute_result"
    }
   ],
   "source": [
    "df.price.mean()"
   ]
  },
  {
   "cell_type": "code",
   "execution_count": 5,
   "id": "9a610b11",
   "metadata": {},
   "outputs": [
    {
     "data": {
      "text/plain": [
       "38.33102189781042"
      ]
     },
     "execution_count": 5,
     "metadata": {},
     "output_type": "execute_result"
    }
   ],
   "source": [
    "df.loc[(df.train_type=='MD-AVE')&(df.train_class=='Turista con enlace')&(df.fare=='Promo +'),'price'].mean()"
   ]
  },
  {
   "cell_type": "code",
   "execution_count": 6,
   "id": "65e397ac",
   "metadata": {},
   "outputs": [
    {
     "data": {
      "text/plain": [
       "13588"
      ]
     },
     "execution_count": 6,
     "metadata": {},
     "output_type": "execute_result"
    }
   ],
   "source": [
    "df.price.isnull().sum()"
   ]
  },
  {
   "cell_type": "code",
   "execution_count": 7,
   "id": "7703658f",
   "metadata": {},
   "outputs": [],
   "source": [
    "#df.dropna(subset=['train_class', 'fare'], how='all', inplace=True)"
   ]
  },
  {
   "cell_type": "code",
   "execution_count": 8,
   "id": "9e6f3ddf",
   "metadata": {},
   "outputs": [
    {
     "data": {
      "text/plain": [
       "array(['MD-AVE', 'MD-LD', 'ALVIA', 'REGIONAL', 'AVE', 'INTERCITY',\n",
       "       'AVE-MD', 'AVE-LD', 'R. EXPRES', 'AVE-TGV', 'AV City', 'MD',\n",
       "       'LD-MD', 'LD', 'LD-AVE', 'TRENHOTEL'], dtype=object)"
      ]
     },
     "execution_count": 8,
     "metadata": {},
     "output_type": "execute_result"
    }
   ],
   "source": [
    "df['train_type'].unique()"
   ]
  },
  {
   "cell_type": "code",
   "execution_count": 9,
   "id": "21c3f9b6",
   "metadata": {},
   "outputs": [
    {
     "data": {
      "text/plain": [
       "array(['Turista con enlace', 'Turista', 'Preferente', 'Turista Plus', nan,\n",
       "       'Cama Turista'], dtype=object)"
      ]
     },
     "execution_count": 9,
     "metadata": {},
     "output_type": "execute_result"
    }
   ],
   "source": [
    "df['train_class'].unique()"
   ]
  },
  {
   "cell_type": "code",
   "execution_count": 10,
   "id": "1cbc8a07",
   "metadata": {},
   "outputs": [
    {
     "data": {
      "text/plain": [
       "array(['Flexible', 'Promo +', 'Promo', 'Adulto ida', 'Mesa', nan],\n",
       "      dtype=object)"
      ]
     },
     "execution_count": 10,
     "metadata": {},
     "output_type": "execute_result"
    }
   ],
   "source": [
    "df['fare'].unique()"
   ]
  },
  {
   "cell_type": "code",
   "execution_count": 11,
   "id": "aa346f7c",
   "metadata": {},
   "outputs": [],
   "source": [
    "for train_type in df['train_type'].unique():\n",
    "    for train_class in df['train_class'].unique():\n",
    "        for fare in df['fare'].unique():\n",
    "            df.loc[(df['train_type']==train_type)&(df['train_class']==train_class)&(df['fare']==fare)&(df['price'].isnull()),'price']=df.loc[(df['train_type']==train_type)&(df['train_class']==train_class)&(df['fare']==fare),'price'].mean()\n",
    "            "
   ]
  },
  {
   "cell_type": "code",
   "execution_count": 13,
   "id": "0740d572",
   "metadata": {},
   "outputs": [
    {
     "data": {
      "text/plain": [
       "(215909, 10)"
      ]
     },
     "execution_count": 13,
     "metadata": {},
     "output_type": "execute_result"
    }
   ],
   "source": [
    "df.shape"
   ]
  },
  {
   "cell_type": "code",
   "execution_count": 12,
   "id": "2eaf507d",
   "metadata": {},
   "outputs": [
    {
     "data": {
      "text/plain": [
       "Unnamed: 0        0\n",
       "insert_date       0\n",
       "origin            0\n",
       "destination       0\n",
       "start_date        0\n",
       "end_date          0\n",
       "train_type        0\n",
       "price          2205\n",
       "train_class     643\n",
       "fare            643\n",
       "dtype: int64"
      ]
     },
     "execution_count": 12,
     "metadata": {},
     "output_type": "execute_result"
    }
   ],
   "source": [
    "df.isnull().sum()"
   ]
  },
  {
   "cell_type": "code",
   "execution_count": 31,
   "id": "edbc8d61",
   "metadata": {},
   "outputs": [
    {
     "data": {
      "text/html": [
       "<div>\n",
       "<style scoped>\n",
       "    .dataframe tbody tr th:only-of-type {\n",
       "        vertical-align: middle;\n",
       "    }\n",
       "\n",
       "    .dataframe tbody tr th {\n",
       "        vertical-align: top;\n",
       "    }\n",
       "\n",
       "    .dataframe thead th {\n",
       "        text-align: right;\n",
       "    }\n",
       "</style>\n",
       "<table border=\"1\" class=\"dataframe\">\n",
       "  <thead>\n",
       "    <tr style=\"text-align: right;\">\n",
       "      <th></th>\n",
       "      <th>Unnamed: 0</th>\n",
       "      <th>insert_date</th>\n",
       "      <th>origin</th>\n",
       "      <th>destination</th>\n",
       "      <th>start_date</th>\n",
       "      <th>end_date</th>\n",
       "      <th>train_type</th>\n",
       "      <th>price</th>\n",
       "      <th>train_class</th>\n",
       "      <th>fare</th>\n",
       "    </tr>\n",
       "  </thead>\n",
       "  <tbody>\n",
       "    <tr>\n",
       "      <th>200236</th>\n",
       "      <td>2279463</td>\n",
       "      <td>2019-04-16 23:28:13</td>\n",
       "      <td>MADRID</td>\n",
       "      <td>SEVILLA</td>\n",
       "      <td>2019-06-02 13:10:00</td>\n",
       "      <td>2019-06-02 20:51:00</td>\n",
       "      <td>MD-LD</td>\n",
       "      <td>NaN</td>\n",
       "      <td>Preferente</td>\n",
       "      <td>Promo</td>\n",
       "    </tr>\n",
       "    <tr>\n",
       "      <th>200478</th>\n",
       "      <td>2285069</td>\n",
       "      <td>2019-04-17 00:24:46</td>\n",
       "      <td>MADRID</td>\n",
       "      <td>SEVILLA</td>\n",
       "      <td>2019-06-02 13:10:00</td>\n",
       "      <td>2019-06-02 20:51:00</td>\n",
       "      <td>MD-LD</td>\n",
       "      <td>NaN</td>\n",
       "      <td>Preferente</td>\n",
       "      <td>Promo</td>\n",
       "    </tr>\n",
       "    <tr>\n",
       "      <th>200501</th>\n",
       "      <td>2285092</td>\n",
       "      <td>2019-04-17 00:24:51</td>\n",
       "      <td>MADRID</td>\n",
       "      <td>SEVILLA</td>\n",
       "      <td>2019-06-01 13:10:00</td>\n",
       "      <td>2019-06-01 20:51:00</td>\n",
       "      <td>MD-LD</td>\n",
       "      <td>NaN</td>\n",
       "      <td>Preferente</td>\n",
       "      <td>Promo</td>\n",
       "    </tr>\n",
       "    <tr>\n",
       "      <th>207140</th>\n",
       "      <td>2413023</td>\n",
       "      <td>2019-04-17 23:16:52</td>\n",
       "      <td>SEVILLA</td>\n",
       "      <td>MADRID</td>\n",
       "      <td>2019-06-02 20:36:00</td>\n",
       "      <td>2019-06-02 23:14:00</td>\n",
       "      <td>ALVIA</td>\n",
       "      <td>NaN</td>\n",
       "      <td>Turista Plus</td>\n",
       "      <td>Flexible</td>\n",
       "    </tr>\n",
       "    <tr>\n",
       "      <th>207647</th>\n",
       "      <td>2424867</td>\n",
       "      <td>2019-04-18 01:22:50</td>\n",
       "      <td>SEVILLA</td>\n",
       "      <td>MADRID</td>\n",
       "      <td>2019-06-02 20:36:00</td>\n",
       "      <td>2019-06-02 23:14:00</td>\n",
       "      <td>ALVIA</td>\n",
       "      <td>NaN</td>\n",
       "      <td>Turista Plus</td>\n",
       "      <td>Flexible</td>\n",
       "    </tr>\n",
       "  </tbody>\n",
       "</table>\n",
       "</div>"
      ],
      "text/plain": [
       "        Unnamed: 0          insert_date   origin destination  \\\n",
       "200236     2279463  2019-04-16 23:28:13   MADRID     SEVILLA   \n",
       "200478     2285069  2019-04-17 00:24:46   MADRID     SEVILLA   \n",
       "200501     2285092  2019-04-17 00:24:51   MADRID     SEVILLA   \n",
       "207140     2413023  2019-04-17 23:16:52  SEVILLA      MADRID   \n",
       "207647     2424867  2019-04-18 01:22:50  SEVILLA      MADRID   \n",
       "\n",
       "                 start_date             end_date train_type  price  \\\n",
       "200236  2019-06-02 13:10:00  2019-06-02 20:51:00      MD-LD    NaN   \n",
       "200478  2019-06-02 13:10:00  2019-06-02 20:51:00      MD-LD    NaN   \n",
       "200501  2019-06-01 13:10:00  2019-06-01 20:51:00      MD-LD    NaN   \n",
       "207140  2019-06-02 20:36:00  2019-06-02 23:14:00      ALVIA    NaN   \n",
       "207647  2019-06-02 20:36:00  2019-06-02 23:14:00      ALVIA    NaN   \n",
       "\n",
       "         train_class      fare  \n",
       "200236    Preferente     Promo  \n",
       "200478    Preferente     Promo  \n",
       "200501    Preferente     Promo  \n",
       "207140  Turista Plus  Flexible  \n",
       "207647  Turista Plus  Flexible  "
      ]
     },
     "execution_count": 31,
     "metadata": {},
     "output_type": "execute_result"
    }
   ],
   "source": [
    "df[df.price.isnull()]"
   ]
  },
  {
   "cell_type": "code",
   "execution_count": 29,
   "id": "cf4088e4",
   "metadata": {},
   "outputs": [
    {
     "data": {
      "text/plain": [
       "nan"
      ]
     },
     "execution_count": 29,
     "metadata": {},
     "output_type": "execute_result"
    }
   ],
   "source": [
    "df.loc[(df.train_type=='MD')&(df.train_class=='Preferente')&(df.fare=='Promo'),'price'].mean()"
   ]
  },
  {
   "cell_type": "code",
   "execution_count": 15,
   "id": "5f7b92f2",
   "metadata": {},
   "outputs": [
    {
     "data": {
      "text/html": [
       "<div>\n",
       "<style scoped>\n",
       "    .dataframe tbody tr th:only-of-type {\n",
       "        vertical-align: middle;\n",
       "    }\n",
       "\n",
       "    .dataframe tbody tr th {\n",
       "        vertical-align: top;\n",
       "    }\n",
       "\n",
       "    .dataframe thead th {\n",
       "        text-align: right;\n",
       "    }\n",
       "</style>\n",
       "<table border=\"1\" class=\"dataframe\">\n",
       "  <thead>\n",
       "    <tr style=\"text-align: right;\">\n",
       "      <th></th>\n",
       "      <th>Unnamed: 0</th>\n",
       "      <th>insert_date</th>\n",
       "      <th>origin</th>\n",
       "      <th>destination</th>\n",
       "      <th>start_date</th>\n",
       "      <th>end_date</th>\n",
       "      <th>train_type</th>\n",
       "      <th>price</th>\n",
       "      <th>train_class</th>\n",
       "      <th>fare</th>\n",
       "    </tr>\n",
       "  </thead>\n",
       "  <tbody>\n",
       "    <tr>\n",
       "      <th>6606</th>\n",
       "      <td>117401</td>\n",
       "      <td>2019-04-20 02:44:09</td>\n",
       "      <td>MADRID</td>\n",
       "      <td>BARCELONA</td>\n",
       "      <td>2019-06-01 20:30:00</td>\n",
       "      <td>2019-06-01 23:40:00</td>\n",
       "      <td>AVE</td>\n",
       "      <td>NaN</td>\n",
       "      <td>NaN</td>\n",
       "      <td>NaN</td>\n",
       "    </tr>\n",
       "    <tr>\n",
       "      <th>6826</th>\n",
       "      <td>121234</td>\n",
       "      <td>2019-04-20 03:32:19</td>\n",
       "      <td>MADRID</td>\n",
       "      <td>BARCELONA</td>\n",
       "      <td>2019-06-01 20:30:00</td>\n",
       "      <td>2019-06-01 23:40:00</td>\n",
       "      <td>AVE</td>\n",
       "      <td>NaN</td>\n",
       "      <td>NaN</td>\n",
       "      <td>NaN</td>\n",
       "    </tr>\n",
       "    <tr>\n",
       "      <th>7244</th>\n",
       "      <td>128574</td>\n",
       "      <td>2019-04-20 04:44:26</td>\n",
       "      <td>MADRID</td>\n",
       "      <td>BARCELONA</td>\n",
       "      <td>2019-06-01 20:30:00</td>\n",
       "      <td>2019-06-01 23:40:00</td>\n",
       "      <td>AVE</td>\n",
       "      <td>NaN</td>\n",
       "      <td>NaN</td>\n",
       "      <td>NaN</td>\n",
       "    </tr>\n",
       "    <tr>\n",
       "      <th>7524</th>\n",
       "      <td>134512</td>\n",
       "      <td>2019-04-20 05:44:05</td>\n",
       "      <td>MADRID</td>\n",
       "      <td>BARCELONA</td>\n",
       "      <td>2019-06-01 20:30:00</td>\n",
       "      <td>2019-06-01 23:40:00</td>\n",
       "      <td>AVE</td>\n",
       "      <td>NaN</td>\n",
       "      <td>NaN</td>\n",
       "      <td>NaN</td>\n",
       "    </tr>\n",
       "    <tr>\n",
       "      <th>7591</th>\n",
       "      <td>135974</td>\n",
       "      <td>2019-04-20 06:05:40</td>\n",
       "      <td>MADRID</td>\n",
       "      <td>BARCELONA</td>\n",
       "      <td>2019-06-01 20:30:00</td>\n",
       "      <td>2019-06-01 23:40:00</td>\n",
       "      <td>AVE</td>\n",
       "      <td>NaN</td>\n",
       "      <td>NaN</td>\n",
       "      <td>NaN</td>\n",
       "    </tr>\n",
       "    <tr>\n",
       "      <th>...</th>\n",
       "      <td>...</td>\n",
       "      <td>...</td>\n",
       "      <td>...</td>\n",
       "      <td>...</td>\n",
       "      <td>...</td>\n",
       "      <td>...</td>\n",
       "      <td>...</td>\n",
       "      <td>...</td>\n",
       "      <td>...</td>\n",
       "      <td>...</td>\n",
       "    </tr>\n",
       "    <tr>\n",
       "      <th>206034</th>\n",
       "      <td>2391725</td>\n",
       "      <td>2019-04-17 19:32:49</td>\n",
       "      <td>PONFERRADA</td>\n",
       "      <td>MADRID</td>\n",
       "      <td>2019-06-01 13:44:00</td>\n",
       "      <td>2019-06-01 21:48:00</td>\n",
       "      <td>LD-MD</td>\n",
       "      <td>NaN</td>\n",
       "      <td>NaN</td>\n",
       "      <td>NaN</td>\n",
       "    </tr>\n",
       "    <tr>\n",
       "      <th>206353</th>\n",
       "      <td>2398206</td>\n",
       "      <td>2019-04-17 20:36:39</td>\n",
       "      <td>PONFERRADA</td>\n",
       "      <td>MADRID</td>\n",
       "      <td>2019-06-01 13:44:00</td>\n",
       "      <td>2019-06-01 21:48:00</td>\n",
       "      <td>LD-MD</td>\n",
       "      <td>NaN</td>\n",
       "      <td>NaN</td>\n",
       "      <td>NaN</td>\n",
       "    </tr>\n",
       "    <tr>\n",
       "      <th>206554</th>\n",
       "      <td>2401832</td>\n",
       "      <td>2019-04-17 21:19:09</td>\n",
       "      <td>PONFERRADA</td>\n",
       "      <td>MADRID</td>\n",
       "      <td>2019-06-01 13:44:00</td>\n",
       "      <td>2019-06-01 21:48:00</td>\n",
       "      <td>LD-MD</td>\n",
       "      <td>NaN</td>\n",
       "      <td>NaN</td>\n",
       "      <td>NaN</td>\n",
       "    </tr>\n",
       "    <tr>\n",
       "      <th>206895</th>\n",
       "      <td>2407148</td>\n",
       "      <td>2019-04-17 22:17:23</td>\n",
       "      <td>PONFERRADA</td>\n",
       "      <td>MADRID</td>\n",
       "      <td>2019-06-01 13:44:00</td>\n",
       "      <td>2019-06-01 21:48:00</td>\n",
       "      <td>LD-MD</td>\n",
       "      <td>NaN</td>\n",
       "      <td>NaN</td>\n",
       "      <td>NaN</td>\n",
       "    </tr>\n",
       "    <tr>\n",
       "      <th>207073</th>\n",
       "      <td>2411862</td>\n",
       "      <td>2019-04-17 23:08:28</td>\n",
       "      <td>PONFERRADA</td>\n",
       "      <td>MADRID</td>\n",
       "      <td>2019-06-01 13:44:00</td>\n",
       "      <td>2019-06-01 21:48:00</td>\n",
       "      <td>LD-MD</td>\n",
       "      <td>NaN</td>\n",
       "      <td>NaN</td>\n",
       "      <td>NaN</td>\n",
       "    </tr>\n",
       "  </tbody>\n",
       "</table>\n",
       "<p>643 rows × 10 columns</p>\n",
       "</div>"
      ],
      "text/plain": [
       "        Unnamed: 0          insert_date      origin destination  \\\n",
       "6606        117401  2019-04-20 02:44:09      MADRID   BARCELONA   \n",
       "6826        121234  2019-04-20 03:32:19      MADRID   BARCELONA   \n",
       "7244        128574  2019-04-20 04:44:26      MADRID   BARCELONA   \n",
       "7524        134512  2019-04-20 05:44:05      MADRID   BARCELONA   \n",
       "7591        135974  2019-04-20 06:05:40      MADRID   BARCELONA   \n",
       "...            ...                  ...         ...         ...   \n",
       "206034     2391725  2019-04-17 19:32:49  PONFERRADA      MADRID   \n",
       "206353     2398206  2019-04-17 20:36:39  PONFERRADA      MADRID   \n",
       "206554     2401832  2019-04-17 21:19:09  PONFERRADA      MADRID   \n",
       "206895     2407148  2019-04-17 22:17:23  PONFERRADA      MADRID   \n",
       "207073     2411862  2019-04-17 23:08:28  PONFERRADA      MADRID   \n",
       "\n",
       "                 start_date             end_date train_type  price  \\\n",
       "6606    2019-06-01 20:30:00  2019-06-01 23:40:00        AVE    NaN   \n",
       "6826    2019-06-01 20:30:00  2019-06-01 23:40:00        AVE    NaN   \n",
       "7244    2019-06-01 20:30:00  2019-06-01 23:40:00        AVE    NaN   \n",
       "7524    2019-06-01 20:30:00  2019-06-01 23:40:00        AVE    NaN   \n",
       "7591    2019-06-01 20:30:00  2019-06-01 23:40:00        AVE    NaN   \n",
       "...                     ...                  ...        ...    ...   \n",
       "206034  2019-06-01 13:44:00  2019-06-01 21:48:00      LD-MD    NaN   \n",
       "206353  2019-06-01 13:44:00  2019-06-01 21:48:00      LD-MD    NaN   \n",
       "206554  2019-06-01 13:44:00  2019-06-01 21:48:00      LD-MD    NaN   \n",
       "206895  2019-06-01 13:44:00  2019-06-01 21:48:00      LD-MD    NaN   \n",
       "207073  2019-06-01 13:44:00  2019-06-01 21:48:00      LD-MD    NaN   \n",
       "\n",
       "       train_class fare  \n",
       "6606           NaN  NaN  \n",
       "6826           NaN  NaN  \n",
       "7244           NaN  NaN  \n",
       "7524           NaN  NaN  \n",
       "7591           NaN  NaN  \n",
       "...            ...  ...  \n",
       "206034         NaN  NaN  \n",
       "206353         NaN  NaN  \n",
       "206554         NaN  NaN  \n",
       "206895         NaN  NaN  \n",
       "207073         NaN  NaN  \n",
       "\n",
       "[643 rows x 10 columns]"
      ]
     },
     "execution_count": 15,
     "metadata": {},
     "output_type": "execute_result"
    }
   ],
   "source": [
    "df.loc[(df.train_class.isnull())&(df.fare.isnull())&(df.price.isnull())]"
   ]
  },
  {
   "cell_type": "code",
   "execution_count": null,
   "id": "8295ce15",
   "metadata": {},
   "outputs": [],
   "source": []
  }
 ],
 "metadata": {
  "kernelspec": {
   "display_name": "Python 3 (ipykernel)",
   "language": "python",
   "name": "python3"
  },
  "language_info": {
   "codemirror_mode": {
    "name": "ipython",
    "version": 3
   },
   "file_extension": ".py",
   "mimetype": "text/x-python",
   "name": "python",
   "nbconvert_exporter": "python",
   "pygments_lexer": "ipython3",
   "version": "3.9.7"
  }
 },
 "nbformat": 4,
 "nbformat_minor": 5
}
